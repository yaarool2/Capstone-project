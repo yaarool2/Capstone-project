{
 "cells": [
  {
   "cell_type": "code",
   "execution_count": 1,
   "metadata": {},
   "outputs": [],
   "source": [
    "import numpy as np\n",
    "import pandas as pd \n",
    "import matplotlib.pyplot as plt   #Data visualisation libraries \n",
    "import seaborn as sns\n",
    "import pandas_profiling\n",
    "import statsmodels.api as sm\n",
    "import scipy.stats as ss\n",
    "import math \n",
    "from sklearn.linear_model import (LinearRegression, Ridge, Lasso, RandomizedLasso)\n",
    "from sklearn import model_selection\n",
    "from sklearn.linear_model import LogisticRegression\n",
    "from sklearn.linear_model import LinearRegression\n",
    "from sklearn.preprocessing import scale\n",
    "from sklearn.linear_model import Lasso, LassoCV, Ridge, RidgeCV\n",
    "#from sklearn import cross_validation\n",
    "from sklearn.metrics import mean_squared_error\n",
    "from sklearn.linear_model import ElasticNetCV\n",
    "from scipy import stats\n",
    "from scipy.stats import pearsonr\n",
    "import statsmodels.formula.api as smf\n",
    "\n",
    "\n",
    "%matplotlib inline"
   ]
  },
  {
   "cell_type": "markdown",
   "metadata": {},
   "source": [
    "### Read data from file 'filename.csv' (in the same directory that your python process is based)"
   ]
  },
  {
   "cell_type": "code",
   "execution_count": null,
   "metadata": {},
   "outputs": [],
   "source": [
    "df  = pd.read_csv(\"CO_CSV.csv\") "
   ]
  },
  {
   "cell_type": "code",
   "execution_count": null,
   "metadata": {},
   "outputs": [],
   "source": [
    "fim=pd.read_csv(\"FIM.csv\") "
   ]
  },
  {
   "cell_type": "code",
   "execution_count": null,
   "metadata": {},
   "outputs": [],
   "source": [
    "df.to_pickle('CO.PICKLE')\n"
   ]
  },
  {
   "cell_type": "code",
   "execution_count": null,
   "metadata": {},
   "outputs": [],
   "source": [
    "dfl.to_pickle('CO.PICKLE_logistic')\n"
   ]
  },
  {
   "cell_type": "code",
   "execution_count": null,
   "metadata": {},
   "outputs": [],
   "source": [
    "df.to_pickle('CO.PICKLE_backup17.7')\n"
   ]
  },
  {
   "cell_type": "code",
   "execution_count": 12,
   "metadata": {},
   "outputs": [],
   "source": [
    "df2.to_pickle('CO.subset')\n"
   ]
  },
  {
   "cell_type": "code",
   "execution_count": 2,
   "metadata": {},
   "outputs": [],
   "source": [
    "df = pd.read_pickle('CO.PICKLE')\n",
    "df2=pd.read_pickle('CO.subset')\n",
    "dfl=pd.read_pickle('CO.PICKLE_logistic')"
   ]
  },
  {
   "cell_type": "code",
   "execution_count": null,
   "metadata": {},
   "outputs": [],
   "source": [
    "df.describe()"
   ]
  },
  {
   "cell_type": "code",
   "execution_count": null,
   "metadata": {},
   "outputs": [],
   "source": [
    "df2.info()"
   ]
  },
  {
   "cell_type": "code",
   "execution_count": null,
   "metadata": {},
   "outputs": [],
   "source": [
    "df.hist(column='Time_since_CVA_at_admit_')"
   ]
  },
  {
   "cell_type": "code",
   "execution_count": null,
   "metadata": {},
   "outputs": [],
   "source": [
    "fim.columns"
   ]
  },
  {
   "cell_type": "code",
   "execution_count": null,
   "metadata": {},
   "outputs": [],
   "source": [
    "df['FIM_DC']=fim['Discharge FIM scores ']"
   ]
  },
  {
   "cell_type": "code",
   "execution_count": null,
   "metadata": {},
   "outputs": [],
   "source": [
    "dft=df"
   ]
  },
  {
   "cell_type": "code",
   "execution_count": null,
   "metadata": {},
   "outputs": [],
   "source": [
    "dft['FIM_change']"
   ]
  },
  {
   "cell_type": "code",
   "execution_count": null,
   "metadata": {},
   "outputs": [],
   "source": [
    "dft['FIM_change'].apply(lambda x: '1' if x['FIM_change']> 22 else '0')"
   ]
  },
  {
   "cell_type": "code",
   "execution_count": null,
   "metadata": {},
   "outputs": [],
   "source": [
    "df['FIM_change']=df.FIM_DC-df.FIM_AD"
   ]
  },
  {
   "cell_type": "markdown",
   "metadata": {},
   "source": [
    "## calculating MCID variables"
   ]
  },
  {
   "cell_type": "code",
   "execution_count": null,
   "metadata": {},
   "outputs": [],
   "source": [
    "def mcid(x,y):\n",
    "    if x>y:\n",
    "        z=1\n",
    "    else:\n",
    "        z=0\n",
    "    return z\n",
    "    "
   ]
  },
  {
   "cell_type": "code",
   "execution_count": 2,
   "metadata": {},
   "outputs": [],
   "source": [
    "def TUGCO(x,y):\n",
    "    if x<y:\n",
    "        z=1\n",
    "    else:\n",
    "        z=0\n",
    "    return z\n",
    "    "
   ]
  },
  {
   "cell_type": "code",
   "execution_count": null,
   "metadata": {},
   "outputs": [],
   "source": [
    "def TUG(x,y):\n",
    "    if pd.isna(y):\n",
    "        z=0\n",
    "    else:\n",
    "        if pd.isna(x):\n",
    "            z=1\n",
    "        else:\n",
    "            if (x-y)>2.9:\n",
    "                z=1\n",
    "            else:\n",
    "                z=0 \n",
    "    return z"
   ]
  },
  {
   "cell_type": "code",
   "execution_count": null,
   "metadata": {},
   "outputs": [],
   "source": [
    "def cut(x,y):\n",
    "    if x>y:\n",
    "        z=1\n",
    "    else:\n",
    "        z=0\n",
    "    return z"
   ]
  },
  {
   "cell_type": "code",
   "execution_count": null,
   "metadata": {},
   "outputs": [],
   "source": [
    "df['TUG_MCID']=df.apply(lambda row: TUG(row['TP1_TUG_SCORE'], row['TP2_TUG_SCORE']), axis=1)"
   ]
  },
  {
   "cell_type": "code",
   "execution_count": null,
   "metadata": {},
   "outputs": [],
   "source": [
    "df[['TP1_TUG_SCORE','TP2_TUG_SCORE','TUG_MCID',]]"
   ]
  },
  {
   "cell_type": "code",
   "execution_count": null,
   "metadata": {},
   "outputs": [],
   "source": [
    "df['FIM_MCID']=df.apply(lambda row: mcid(row['FIM_change'], 22), axis=1)"
   ]
  },
  {
   "cell_type": "code",
   "execution_count": null,
   "metadata": {},
   "outputs": [],
   "source": [
    "df['BERG_MCID']=df.apply(lambda row: mcid(row['BERG_change'], 13.5), axis=1)"
   ]
  },
  {
   "cell_type": "code",
   "execution_count": null,
   "metadata": {},
   "outputs": [],
   "source": [
    "df['10MWT_SSV_MCID']=df.apply(lambda row: mcid(row['10MWT_SSV_change'], 0.14), axis=1)"
   ]
  },
  {
   "cell_type": "code",
   "execution_count": null,
   "metadata": {},
   "outputs": [],
   "source": [
    "df['10MWT_FV_MCID']=df.apply(lambda row: mcid(row['10MWT_FV_change'], 0.14), axis=1)"
   ]
  },
  {
   "cell_type": "code",
   "execution_count": null,
   "metadata": {},
   "outputs": [],
   "source": [
    "df['6MWT_TIME_MCID']=df.apply(lambda row: mcid(row['6MWT_TIME_change'], 34.4), axis=1)"
   ]
  },
  {
   "cell_type": "code",
   "execution_count": null,
   "metadata": {},
   "outputs": [],
   "source": [
    "list(df)"
   ]
  },
  {
   "cell_type": "markdown",
   "metadata": {},
   "source": [
    "## calculating cut off values"
   ]
  },
  {
   "cell_type": "code",
   "execution_count": null,
   "metadata": {},
   "outputs": [],
   "source": [
    "df['FIM_cutoff']=df.apply(lambda row: mcid(row['FIM_DC'], 70), axis=1)"
   ]
  },
  {
   "cell_type": "code",
   "execution_count": null,
   "metadata": {},
   "outputs": [],
   "source": [
    "df['BERG_cutoff']=df.apply(lambda row: mcid(row['TP2_BBS_SCORE'], 45), axis=1)"
   ]
  },
  {
   "cell_type": "code",
   "execution_count": null,
   "metadata": {},
   "outputs": [],
   "source": [
    "df['10MWT_SSV_cutoff']=df.apply(lambda row: mcid(row['TP2_10MWT_SSV_SCORE'], 0.8), axis=1)"
   ]
  },
  {
   "cell_type": "code",
   "execution_count": null,
   "metadata": {},
   "outputs": [],
   "source": [
    "df['10MWT_FV_cutoff']=df.apply(lambda row: mcid(row['TP2_10MWT_FV_SCORE'], 0.8), axis=1)"
   ]
  },
  {
   "cell_type": "code",
   "execution_count": null,
   "metadata": {},
   "outputs": [],
   "source": [
    "df['6MWT_TIME_cutoff']=df.apply(lambda row: mcid(row['TP2_6MWT_TIME_SCORE'], 250), axis=1)"
   ]
  },
  {
   "cell_type": "code",
   "execution_count": 6,
   "metadata": {},
   "outputs": [],
   "source": [
    "df2['TUG_cutoff']=df.apply(lambda row: TUGCO(row['TP2_TUG_SCORE'], 14), axis=1)"
   ]
  },
  {
   "cell_type": "code",
   "execution_count": 9,
   "metadata": {},
   "outputs": [],
   "source": [
    "df2['TP2_TUG_SCORE']=df['TP2_TUG_SCORE']b"
   ]
  },
  {
   "cell_type": "code",
   "execution_count": 11,
   "metadata": {},
   "outputs": [],
   "source": [
    "df2['TUG_MCID']=df['TUG_MCID']"
   ]
  },
  {
   "cell_type": "code",
   "execution_count": 3,
   "metadata": {},
   "outputs": [
    {
     "data": {
      "text/plain": [
       "['Study_ID',\n",
       " 'BERG_change',\n",
       " '10MWT_SSV_change',\n",
       " '6MWT_TIME_change',\n",
       " 'FIM_change',\n",
       " 'BERG_cutoff',\n",
       " '10MWT_SSV_cutoff',\n",
       " '10MWT_FV_cutoff',\n",
       " '6MWT_TIME_cutoff',\n",
       " 'FIM_cutoff',\n",
       " 'BERG_MCID',\n",
       " '10MWT_SSV_MCID',\n",
       " '10MWT_FV_MCID',\n",
       " '6MWT_TIME_MCID',\n",
       " 'FIM_MCID',\n",
       " 'TP2_BBS_SCORE',\n",
       " 'TP2_10MWT_SSV_SCORE',\n",
       " 'TP2_10MWT_FV_SCORE',\n",
       " 'TP2_6MWT_TIME_SCORE',\n",
       " 'FIM_DC',\n",
       " 'FIM_AD',\n",
       " 'TP1_BBS_SCORE',\n",
       " 'TP1_10MWT_SSV_SCORE',\n",
       " 'TP1_10MWT_FV_SCORE',\n",
       " 'TP1_6MWT_TIME_SCORE',\n",
       " 'Age',\n",
       " 'Sex',\n",
       " 'Race',\n",
       " 'Height_',\n",
       " 'Weight',\n",
       " 'Lifestyle',\n",
       " 'Days_from_frist_time_point_to_last',\n",
       " 'Lesion_location_general',\n",
       " 'Etiology_',\n",
       " 'Highest_degree',\n",
       " 'Time_since_CVA_at_admit_',\n",
       " 'FIM_day',\n",
       " 'FIM_daily',\n",
       " '6MWT_TIME_daily',\n",
       " 'BERG_daily',\n",
       " '10MWT_SSV_daily',\n",
       " 'TUG_cutoff',\n",
       " 'TP2_TUG_SCORE',\n",
       " 'TUG_MCID',\n",
       " 'TP1_TUG_SCORE']"
      ]
     },
     "execution_count": 3,
     "metadata": {},
     "output_type": "execute_result"
    }
   ],
   "source": [
    "list(df2)"
   ]
  },
  {
   "cell_type": "code",
   "execution_count": 6,
   "metadata": {},
   "outputs": [
    {
     "data": {
      "text/html": [
       "<div>\n",
       "<style scoped>\n",
       "    .dataframe tbody tr th:only-of-type {\n",
       "        vertical-align: middle;\n",
       "    }\n",
       "\n",
       "    .dataframe tbody tr th {\n",
       "        vertical-align: top;\n",
       "    }\n",
       "\n",
       "    .dataframe thead th {\n",
       "        text-align: right;\n",
       "    }\n",
       "</style>\n",
       "<table border=\"1\" class=\"dataframe\">\n",
       "  <thead>\n",
       "    <tr style=\"text-align: right;\">\n",
       "      <th></th>\n",
       "      <th>TP2_BBS_SCORE</th>\n",
       "      <th>TP2_6MWT_TIME_SCORE</th>\n",
       "    </tr>\n",
       "  </thead>\n",
       "  <tbody>\n",
       "    <tr>\n",
       "      <th>0</th>\n",
       "      <td>29.0</td>\n",
       "      <td>0.0000</td>\n",
       "    </tr>\n",
       "    <tr>\n",
       "      <th>31</th>\n",
       "      <td>1.0</td>\n",
       "      <td>0.0000</td>\n",
       "    </tr>\n",
       "    <tr>\n",
       "      <th>24</th>\n",
       "      <td>4.0</td>\n",
       "      <td>0.0000</td>\n",
       "    </tr>\n",
       "    <tr>\n",
       "      <th>20</th>\n",
       "      <td>5.0</td>\n",
       "      <td>3.9624</td>\n",
       "    </tr>\n",
       "    <tr>\n",
       "      <th>51</th>\n",
       "      <td>4.0</td>\n",
       "      <td>10.5500</td>\n",
       "    </tr>\n",
       "    <tr>\n",
       "      <th>42</th>\n",
       "      <td>3.0</td>\n",
       "      <td>12.9380</td>\n",
       "    </tr>\n",
       "    <tr>\n",
       "      <th>29</th>\n",
       "      <td>9.0</td>\n",
       "      <td>16.7640</td>\n",
       "    </tr>\n",
       "    <tr>\n",
       "      <th>48</th>\n",
       "      <td>4.0</td>\n",
       "      <td>22.3520</td>\n",
       "    </tr>\n",
       "    <tr>\n",
       "      <th>9</th>\n",
       "      <td>15.0</td>\n",
       "      <td>30.4800</td>\n",
       "    </tr>\n",
       "    <tr>\n",
       "      <th>23</th>\n",
       "      <td>25.0</td>\n",
       "      <td>30.7848</td>\n",
       "    </tr>\n",
       "    <tr>\n",
       "      <th>30</th>\n",
       "      <td>8.0</td>\n",
       "      <td>33.2800</td>\n",
       "    </tr>\n",
       "    <tr>\n",
       "      <th>35</th>\n",
       "      <td>34.0</td>\n",
       "      <td>47.8820</td>\n",
       "    </tr>\n",
       "    <tr>\n",
       "      <th>14</th>\n",
       "      <td>6.0</td>\n",
       "      <td>50.9000</td>\n",
       "    </tr>\n",
       "    <tr>\n",
       "      <th>2</th>\n",
       "      <td>4.0</td>\n",
       "      <td>53.4900</td>\n",
       "    </tr>\n",
       "    <tr>\n",
       "      <th>3</th>\n",
       "      <td>5.0</td>\n",
       "      <td>54.2544</td>\n",
       "    </tr>\n",
       "    <tr>\n",
       "      <th>49</th>\n",
       "      <td>35.0</td>\n",
       "      <td>57.5800</td>\n",
       "    </tr>\n",
       "    <tr>\n",
       "      <th>41</th>\n",
       "      <td>16.0</td>\n",
       "      <td>61.2600</td>\n",
       "    </tr>\n",
       "    <tr>\n",
       "      <th>34</th>\n",
       "      <td>29.0</td>\n",
       "      <td>64.6180</td>\n",
       "    </tr>\n",
       "    <tr>\n",
       "      <th>6</th>\n",
       "      <td>26.0</td>\n",
       "      <td>71.2000</td>\n",
       "    </tr>\n",
       "    <tr>\n",
       "      <th>39</th>\n",
       "      <td>32.0</td>\n",
       "      <td>92.3500</td>\n",
       "    </tr>\n",
       "    <tr>\n",
       "      <th>47</th>\n",
       "      <td>21.0</td>\n",
       "      <td>97.2312</td>\n",
       "    </tr>\n",
       "    <tr>\n",
       "      <th>32</th>\n",
       "      <td>30.0</td>\n",
       "      <td>99.3600</td>\n",
       "    </tr>\n",
       "    <tr>\n",
       "      <th>27</th>\n",
       "      <td>35.0</td>\n",
       "      <td>134.9900</td>\n",
       "    </tr>\n",
       "    <tr>\n",
       "      <th>33</th>\n",
       "      <td>44.0</td>\n",
       "      <td>139.3000</td>\n",
       "    </tr>\n",
       "    <tr>\n",
       "      <th>36</th>\n",
       "      <td>0.0</td>\n",
       "      <td>141.4580</td>\n",
       "    </tr>\n",
       "    <tr>\n",
       "      <th>22</th>\n",
       "      <td>33.0</td>\n",
       "      <td>145.7850</td>\n",
       "    </tr>\n",
       "    <tr>\n",
       "      <th>26</th>\n",
       "      <td>32.0</td>\n",
       "      <td>170.7180</td>\n",
       "    </tr>\n",
       "    <tr>\n",
       "      <th>28</th>\n",
       "      <td>34.0</td>\n",
       "      <td>175.8700</td>\n",
       "    </tr>\n",
       "    <tr>\n",
       "      <th>7</th>\n",
       "      <td>22.0</td>\n",
       "      <td>190.3800</td>\n",
       "    </tr>\n",
       "    <tr>\n",
       "      <th>4</th>\n",
       "      <td>37.0</td>\n",
       "      <td>194.1580</td>\n",
       "    </tr>\n",
       "    <tr>\n",
       "      <th>5</th>\n",
       "      <td>36.0</td>\n",
       "      <td>202.7200</td>\n",
       "    </tr>\n",
       "    <tr>\n",
       "      <th>52</th>\n",
       "      <td>38.0</td>\n",
       "      <td>228.8800</td>\n",
       "    </tr>\n",
       "    <tr>\n",
       "      <th>40</th>\n",
       "      <td>46.0</td>\n",
       "      <td>242.6000</td>\n",
       "    </tr>\n",
       "    <tr>\n",
       "      <th>21</th>\n",
       "      <td>20.0</td>\n",
       "      <td>250.0000</td>\n",
       "    </tr>\n",
       "    <tr>\n",
       "      <th>37</th>\n",
       "      <td>46.0</td>\n",
       "      <td>270.3500</td>\n",
       "    </tr>\n",
       "    <tr>\n",
       "      <th>50</th>\n",
       "      <td>37.0</td>\n",
       "      <td>273.7600</td>\n",
       "    </tr>\n",
       "    <tr>\n",
       "      <th>54</th>\n",
       "      <td>51.0</td>\n",
       "      <td>295.8850</td>\n",
       "    </tr>\n",
       "    <tr>\n",
       "      <th>13</th>\n",
       "      <td>48.0</td>\n",
       "      <td>304.2800</td>\n",
       "    </tr>\n",
       "    <tr>\n",
       "      <th>18</th>\n",
       "      <td>33.0</td>\n",
       "      <td>321.5640</td>\n",
       "    </tr>\n",
       "    <tr>\n",
       "      <th>44</th>\n",
       "      <td>41.0</td>\n",
       "      <td>329.1840</td>\n",
       "    </tr>\n",
       "    <tr>\n",
       "      <th>53</th>\n",
       "      <td>44.0</td>\n",
       "      <td>345.3400</td>\n",
       "    </tr>\n",
       "    <tr>\n",
       "      <th>38</th>\n",
       "      <td>46.0</td>\n",
       "      <td>393.1920</td>\n",
       "    </tr>\n",
       "    <tr>\n",
       "      <th>1</th>\n",
       "      <td>47.0</td>\n",
       "      <td>403.2500</td>\n",
       "    </tr>\n",
       "    <tr>\n",
       "      <th>46</th>\n",
       "      <td>49.0</td>\n",
       "      <td>438.6100</td>\n",
       "    </tr>\n",
       "    <tr>\n",
       "      <th>25</th>\n",
       "      <td>45.0</td>\n",
       "      <td>438.9100</td>\n",
       "    </tr>\n",
       "    <tr>\n",
       "      <th>19</th>\n",
       "      <td>52.0</td>\n",
       "      <td>449.5800</td>\n",
       "    </tr>\n",
       "    <tr>\n",
       "      <th>12</th>\n",
       "      <td>56.0</td>\n",
       "      <td>456.8900</td>\n",
       "    </tr>\n",
       "    <tr>\n",
       "      <th>10</th>\n",
       "      <td>56.0</td>\n",
       "      <td>491.6700</td>\n",
       "    </tr>\n",
       "    <tr>\n",
       "      <th>15</th>\n",
       "      <td>56.0</td>\n",
       "      <td>516.3000</td>\n",
       "    </tr>\n",
       "    <tr>\n",
       "      <th>11</th>\n",
       "      <td>52.0</td>\n",
       "      <td>562.0500</td>\n",
       "    </tr>\n",
       "  </tbody>\n",
       "</table>\n",
       "</div>"
      ],
      "text/plain": [
       "    TP2_BBS_SCORE  TP2_6MWT_TIME_SCORE\n",
       "0            29.0               0.0000\n",
       "31            1.0               0.0000\n",
       "24            4.0               0.0000\n",
       "20            5.0               3.9624\n",
       "51            4.0              10.5500\n",
       "42            3.0              12.9380\n",
       "29            9.0              16.7640\n",
       "48            4.0              22.3520\n",
       "9            15.0              30.4800\n",
       "23           25.0              30.7848\n",
       "30            8.0              33.2800\n",
       "35           34.0              47.8820\n",
       "14            6.0              50.9000\n",
       "2             4.0              53.4900\n",
       "3             5.0              54.2544\n",
       "49           35.0              57.5800\n",
       "41           16.0              61.2600\n",
       "34           29.0              64.6180\n",
       "6            26.0              71.2000\n",
       "39           32.0              92.3500\n",
       "47           21.0              97.2312\n",
       "32           30.0              99.3600\n",
       "27           35.0             134.9900\n",
       "33           44.0             139.3000\n",
       "36            0.0             141.4580\n",
       "22           33.0             145.7850\n",
       "26           32.0             170.7180\n",
       "28           34.0             175.8700\n",
       "7            22.0             190.3800\n",
       "4            37.0             194.1580\n",
       "5            36.0             202.7200\n",
       "52           38.0             228.8800\n",
       "40           46.0             242.6000\n",
       "21           20.0             250.0000\n",
       "37           46.0             270.3500\n",
       "50           37.0             273.7600\n",
       "54           51.0             295.8850\n",
       "13           48.0             304.2800\n",
       "18           33.0             321.5640\n",
       "44           41.0             329.1840\n",
       "53           44.0             345.3400\n",
       "38           46.0             393.1920\n",
       "1            47.0             403.2500\n",
       "46           49.0             438.6100\n",
       "25           45.0             438.9100\n",
       "19           52.0             449.5800\n",
       "12           56.0             456.8900\n",
       "10           56.0             491.6700\n",
       "15           56.0             516.3000\n",
       "11           52.0             562.0500"
      ]
     },
     "execution_count": 6,
     "metadata": {},
     "output_type": "execute_result"
    }
   ],
   "source": [
    "dftest=df2[['TP2_BBS_SCORE', 'TP2_6MWT_TIME_SCORE']]\n",
    "dftest.sort_values(by=['TP2_6MWT_TIME_SCORE'])"
   ]
  },
  {
   "cell_type": "code",
   "execution_count": 5,
   "metadata": {},
   "outputs": [
    {
     "data": {
      "text/html": [
       "<div>\n",
       "<style scoped>\n",
       "    .dataframe tbody tr th:only-of-type {\n",
       "        vertical-align: middle;\n",
       "    }\n",
       "\n",
       "    .dataframe tbody tr th {\n",
       "        vertical-align: top;\n",
       "    }\n",
       "\n",
       "    .dataframe thead th {\n",
       "        text-align: right;\n",
       "    }\n",
       "</style>\n",
       "<table border=\"1\" class=\"dataframe\">\n",
       "  <thead>\n",
       "    <tr style=\"text-align: right;\">\n",
       "      <th></th>\n",
       "      <th>TP2_10MWT_SSV_SCORE</th>\n",
       "      <th>TP2_6MWT_TIME_SCORE</th>\n",
       "    </tr>\n",
       "  </thead>\n",
       "  <tbody>\n",
       "    <tr>\n",
       "      <th>0</th>\n",
       "      <td>0.00000</td>\n",
       "      <td>0.0000</td>\n",
       "    </tr>\n",
       "    <tr>\n",
       "      <th>31</th>\n",
       "      <td>0.00000</td>\n",
       "      <td>0.0000</td>\n",
       "    </tr>\n",
       "    <tr>\n",
       "      <th>24</th>\n",
       "      <td>0.00000</td>\n",
       "      <td>0.0000</td>\n",
       "    </tr>\n",
       "    <tr>\n",
       "      <th>20</th>\n",
       "      <td>0.00000</td>\n",
       "      <td>3.9624</td>\n",
       "    </tr>\n",
       "    <tr>\n",
       "      <th>51</th>\n",
       "      <td>0.09700</td>\n",
       "      <td>10.5500</td>\n",
       "    </tr>\n",
       "    <tr>\n",
       "      <th>42</th>\n",
       "      <td>0.00000</td>\n",
       "      <td>12.9380</td>\n",
       "    </tr>\n",
       "    <tr>\n",
       "      <th>29</th>\n",
       "      <td>0.09860</td>\n",
       "      <td>16.7640</td>\n",
       "    </tr>\n",
       "    <tr>\n",
       "      <th>48</th>\n",
       "      <td>0.00000</td>\n",
       "      <td>22.3520</td>\n",
       "    </tr>\n",
       "    <tr>\n",
       "      <th>9</th>\n",
       "      <td>0.13200</td>\n",
       "      <td>30.4800</td>\n",
       "    </tr>\n",
       "    <tr>\n",
       "      <th>23</th>\n",
       "      <td>0.12500</td>\n",
       "      <td>30.7848</td>\n",
       "    </tr>\n",
       "    <tr>\n",
       "      <th>30</th>\n",
       "      <td>0.00000</td>\n",
       "      <td>33.2800</td>\n",
       "    </tr>\n",
       "    <tr>\n",
       "      <th>35</th>\n",
       "      <td>0.25600</td>\n",
       "      <td>47.8820</td>\n",
       "    </tr>\n",
       "    <tr>\n",
       "      <th>14</th>\n",
       "      <td>0.15080</td>\n",
       "      <td>50.9000</td>\n",
       "    </tr>\n",
       "    <tr>\n",
       "      <th>2</th>\n",
       "      <td>0.31600</td>\n",
       "      <td>53.4900</td>\n",
       "    </tr>\n",
       "    <tr>\n",
       "      <th>3</th>\n",
       "      <td>1.12800</td>\n",
       "      <td>54.2544</td>\n",
       "    </tr>\n",
       "    <tr>\n",
       "      <th>49</th>\n",
       "      <td>0.26700</td>\n",
       "      <td>57.5800</td>\n",
       "    </tr>\n",
       "    <tr>\n",
       "      <th>41</th>\n",
       "      <td>0.56900</td>\n",
       "      <td>61.2600</td>\n",
       "    </tr>\n",
       "    <tr>\n",
       "      <th>34</th>\n",
       "      <td>0.34400</td>\n",
       "      <td>64.6180</td>\n",
       "    </tr>\n",
       "    <tr>\n",
       "      <th>6</th>\n",
       "      <td>0.48800</td>\n",
       "      <td>71.2000</td>\n",
       "    </tr>\n",
       "    <tr>\n",
       "      <th>39</th>\n",
       "      <td>0.54700</td>\n",
       "      <td>92.3500</td>\n",
       "    </tr>\n",
       "    <tr>\n",
       "      <th>47</th>\n",
       "      <td>0.38300</td>\n",
       "      <td>97.2312</td>\n",
       "    </tr>\n",
       "    <tr>\n",
       "      <th>32</th>\n",
       "      <td>0.53900</td>\n",
       "      <td>99.3600</td>\n",
       "    </tr>\n",
       "    <tr>\n",
       "      <th>27</th>\n",
       "      <td>0.69070</td>\n",
       "      <td>134.9900</td>\n",
       "    </tr>\n",
       "    <tr>\n",
       "      <th>33</th>\n",
       "      <td>0.92500</td>\n",
       "      <td>139.3000</td>\n",
       "    </tr>\n",
       "    <tr>\n",
       "      <th>36</th>\n",
       "      <td>0.76970</td>\n",
       "      <td>141.4580</td>\n",
       "    </tr>\n",
       "    <tr>\n",
       "      <th>22</th>\n",
       "      <td>0.38100</td>\n",
       "      <td>145.7850</td>\n",
       "    </tr>\n",
       "    <tr>\n",
       "      <th>26</th>\n",
       "      <td>1.26700</td>\n",
       "      <td>170.7180</td>\n",
       "    </tr>\n",
       "    <tr>\n",
       "      <th>28</th>\n",
       "      <td>0.94070</td>\n",
       "      <td>175.8700</td>\n",
       "    </tr>\n",
       "    <tr>\n",
       "      <th>7</th>\n",
       "      <td>0.70997</td>\n",
       "      <td>190.3800</td>\n",
       "    </tr>\n",
       "    <tr>\n",
       "      <th>4</th>\n",
       "      <td>0.84800</td>\n",
       "      <td>194.1580</td>\n",
       "    </tr>\n",
       "    <tr>\n",
       "      <th>5</th>\n",
       "      <td>0.99200</td>\n",
       "      <td>202.7200</td>\n",
       "    </tr>\n",
       "    <tr>\n",
       "      <th>52</th>\n",
       "      <td>1.13200</td>\n",
       "      <td>228.8800</td>\n",
       "    </tr>\n",
       "    <tr>\n",
       "      <th>40</th>\n",
       "      <td>1.31000</td>\n",
       "      <td>242.6000</td>\n",
       "    </tr>\n",
       "    <tr>\n",
       "      <th>21</th>\n",
       "      <td>0.57200</td>\n",
       "      <td>250.0000</td>\n",
       "    </tr>\n",
       "    <tr>\n",
       "      <th>37</th>\n",
       "      <td>0.94900</td>\n",
       "      <td>270.3500</td>\n",
       "    </tr>\n",
       "    <tr>\n",
       "      <th>50</th>\n",
       "      <td>1.27000</td>\n",
       "      <td>273.7600</td>\n",
       "    </tr>\n",
       "    <tr>\n",
       "      <th>54</th>\n",
       "      <td>1.59300</td>\n",
       "      <td>295.8850</td>\n",
       "    </tr>\n",
       "    <tr>\n",
       "      <th>13</th>\n",
       "      <td>0.48400</td>\n",
       "      <td>304.2800</td>\n",
       "    </tr>\n",
       "    <tr>\n",
       "      <th>18</th>\n",
       "      <td>0.78900</td>\n",
       "      <td>321.5640</td>\n",
       "    </tr>\n",
       "    <tr>\n",
       "      <th>44</th>\n",
       "      <td>1.20700</td>\n",
       "      <td>329.1840</td>\n",
       "    </tr>\n",
       "    <tr>\n",
       "      <th>53</th>\n",
       "      <td>1.56700</td>\n",
       "      <td>345.3400</td>\n",
       "    </tr>\n",
       "    <tr>\n",
       "      <th>38</th>\n",
       "      <td>2.02000</td>\n",
       "      <td>393.1920</td>\n",
       "    </tr>\n",
       "    <tr>\n",
       "      <th>1</th>\n",
       "      <td>1.94200</td>\n",
       "      <td>403.2500</td>\n",
       "    </tr>\n",
       "    <tr>\n",
       "      <th>46</th>\n",
       "      <td>2.06300</td>\n",
       "      <td>438.6100</td>\n",
       "    </tr>\n",
       "    <tr>\n",
       "      <th>25</th>\n",
       "      <td>2.02100</td>\n",
       "      <td>438.9100</td>\n",
       "    </tr>\n",
       "    <tr>\n",
       "      <th>19</th>\n",
       "      <td>1.36600</td>\n",
       "      <td>449.5800</td>\n",
       "    </tr>\n",
       "    <tr>\n",
       "      <th>12</th>\n",
       "      <td>1.67100</td>\n",
       "      <td>456.8900</td>\n",
       "    </tr>\n",
       "    <tr>\n",
       "      <th>10</th>\n",
       "      <td>1.23900</td>\n",
       "      <td>491.6700</td>\n",
       "    </tr>\n",
       "    <tr>\n",
       "      <th>15</th>\n",
       "      <td>0.99380</td>\n",
       "      <td>516.3000</td>\n",
       "    </tr>\n",
       "    <tr>\n",
       "      <th>11</th>\n",
       "      <td>0.88400</td>\n",
       "      <td>562.0500</td>\n",
       "    </tr>\n",
       "  </tbody>\n",
       "</table>\n",
       "</div>"
      ],
      "text/plain": [
       "    TP2_10MWT_SSV_SCORE  TP2_6MWT_TIME_SCORE\n",
       "0               0.00000               0.0000\n",
       "31              0.00000               0.0000\n",
       "24              0.00000               0.0000\n",
       "20              0.00000               3.9624\n",
       "51              0.09700              10.5500\n",
       "42              0.00000              12.9380\n",
       "29              0.09860              16.7640\n",
       "48              0.00000              22.3520\n",
       "9               0.13200              30.4800\n",
       "23              0.12500              30.7848\n",
       "30              0.00000              33.2800\n",
       "35              0.25600              47.8820\n",
       "14              0.15080              50.9000\n",
       "2               0.31600              53.4900\n",
       "3               1.12800              54.2544\n",
       "49              0.26700              57.5800\n",
       "41              0.56900              61.2600\n",
       "34              0.34400              64.6180\n",
       "6               0.48800              71.2000\n",
       "39              0.54700              92.3500\n",
       "47              0.38300              97.2312\n",
       "32              0.53900              99.3600\n",
       "27              0.69070             134.9900\n",
       "33              0.92500             139.3000\n",
       "36              0.76970             141.4580\n",
       "22              0.38100             145.7850\n",
       "26              1.26700             170.7180\n",
       "28              0.94070             175.8700\n",
       "7               0.70997             190.3800\n",
       "4               0.84800             194.1580\n",
       "5               0.99200             202.7200\n",
       "52              1.13200             228.8800\n",
       "40              1.31000             242.6000\n",
       "21              0.57200             250.0000\n",
       "37              0.94900             270.3500\n",
       "50              1.27000             273.7600\n",
       "54              1.59300             295.8850\n",
       "13              0.48400             304.2800\n",
       "18              0.78900             321.5640\n",
       "44              1.20700             329.1840\n",
       "53              1.56700             345.3400\n",
       "38              2.02000             393.1920\n",
       "1               1.94200             403.2500\n",
       "46              2.06300             438.6100\n",
       "25              2.02100             438.9100\n",
       "19              1.36600             449.5800\n",
       "12              1.67100             456.8900\n",
       "10              1.23900             491.6700\n",
       "15              0.99380             516.3000\n",
       "11              0.88400             562.0500"
      ]
     },
     "execution_count": 5,
     "metadata": {},
     "output_type": "execute_result"
    }
   ],
   "source": [
    "dftest=df2[['TP2_10MWT_SSV_SCORE', 'TP2_6MWT_TIME_SCORE']]\n",
    "dftest.sort_values(by=['TP2_6MWT_TIME_SCORE'])"
   ]
  },
  {
   "cell_type": "code",
   "execution_count": null,
   "metadata": {},
   "outputs": [],
   "source": [
    "df['TP2_6MWT_TIME_SCORE']"
   ]
  },
  {
   "cell_type": "code",
   "execution_count": null,
   "metadata": {},
   "outputs": [],
   "source": [
    "6MWT_TIME_change"
   ]
  },
  {
   "cell_type": "code",
   "execution_count": null,
   "metadata": {},
   "outputs": [],
   "source": [
    "df[['TP2_6MWT_TIME_SCORE','6MWT_TIME_cutoff']]"
   ]
  },
  {
   "cell_type": "code",
   "execution_count": null,
   "metadata": {},
   "outputs": [],
   "source": [
    "df['FIM_DC']"
   ]
  },
  {
   "cell_type": "code",
   "execution_count": null,
   "metadata": {},
   "outputs": [],
   "source": [
    "fim.describe()"
   ]
  },
  {
   "cell_type": "code",
   "execution_count": null,
   "metadata": {},
   "outputs": [],
   "source": [
    "df[['Study_ID','FIM_AD']]"
   ]
  },
  {
   "cell_type": "code",
   "execution_count": null,
   "metadata": {},
   "outputs": [],
   "source": [
    "df2  = pd.read_csv(\"CO_CSV.csv\") "
   ]
  },
  {
   "cell_type": "markdown",
   "metadata": {},
   "source": [
    "## get all columns names"
   ]
  },
  {
   "cell_type": "code",
   "execution_count": null,
   "metadata": {},
   "outputs": [],
   "source": [
    "df[['TP1_TUG_SCORE','TP2_TUG_SCORE']]"
   ]
  },
  {
   "cell_type": "code",
   "execution_count": null,
   "metadata": {},
   "outputs": [],
   "source": [
    "list(df)\n"
   ]
  },
  {
   "cell_type": "code",
   "execution_count": null,
   "metadata": {},
   "outputs": [],
   "source": [
    "df[['Study_ID','Days_from_frist_time_point_to_last','Length_of_stay_','Time_since_CVA_at_admit_']]"
   ]
  },
  {
   "cell_type": "code",
   "execution_count": null,
   "metadata": {},
   "outputs": [],
   "source": []
  },
  {
   "cell_type": "code",
   "execution_count": null,
   "metadata": {},
   "outputs": [],
   "source": [
    "df.to_pickle('CO.PICKLE_nofim')\n"
   ]
  },
  {
   "cell_type": "code",
   "execution_count": null,
   "metadata": {},
   "outputs": [],
   "source": [
    "df = pd.read_pickle('CO.PICKLE')\n"
   ]
  },
  {
   "cell_type": "markdown",
   "metadata": {},
   "source": [
    "## df for testing stuff"
   ]
  },
  {
   "cell_type": "code",
   "execution_count": null,
   "metadata": {},
   "outputs": [],
   "source": [
    "dft = pd.read_pickle('CO.PICKLE') "
   ]
  },
  {
   "cell_type": "markdown",
   "metadata": {},
   "source": [
    "## Exploraty data analysis - all df"
   ]
  },
  {
   "cell_type": "code",
   "execution_count": null,
   "metadata": {
    "scrolled": true
   },
   "outputs": [],
   "source": [
    "df.head() # show first 5 rows"
   ]
  },
  {
   "cell_type": "code",
   "execution_count": null,
   "metadata": {},
   "outputs": [],
   "source": [
    "df.tail() # last 5 rows"
   ]
  },
  {
   "cell_type": "code",
   "execution_count": null,
   "metadata": {},
   "outputs": [],
   "source": [
    "df.columns # list all column names"
   ]
  },
  {
   "cell_type": "code",
   "execution_count": null,
   "metadata": {},
   "outputs": [],
   "source": [
    "df.shape # get number of rows and columns"
   ]
  },
  {
   "cell_type": "code",
   "execution_count": null,
   "metadata": {},
   "outputs": [],
   "source": [
    "df.info() # additional info about dataframe"
   ]
  },
  {
   "cell_type": "code",
   "execution_count": null,
   "metadata": {},
   "outputs": [],
   "source": [
    "df.isna().sum() # sum how many NA are there"
   ]
  },
  {
   "cell_type": "code",
   "execution_count": null,
   "metadata": {},
   "outputs": [],
   "source": [
    "df.describe() # statistical description, only for numeric values\n"
   ]
  },
  {
   "cell_type": "code",
   "execution_count": null,
   "metadata": {},
   "outputs": [],
   "source": [
    "from IPython.display import display\n",
    "display(df)  # OR"
   ]
  },
  {
   "cell_type": "code",
   "execution_count": null,
   "metadata": {},
   "outputs": [],
   "source": [
    "pd.options.display.max_columns = None\n",
    "display(df)"
   ]
  },
  {
   "cell_type": "markdown",
   "metadata": {},
   "source": [
    "## create change in CO"
   ]
  },
  {
   "cell_type": "code",
   "execution_count": null,
   "metadata": {},
   "outputs": [],
   "source": [
    "df['BERG_change']=df.TP2_BBS_SCORE-df.TP1_BBS_SCORE"
   ]
  },
  {
   "cell_type": "code",
   "execution_count": null,
   "metadata": {},
   "outputs": [],
   "source": [
    "df['MAS_L_change']=df.TP2_MAS_L_SCORE-df.TP1_MAS_L_SCORE"
   ]
  },
  {
   "cell_type": "code",
   "execution_count": null,
   "metadata": {},
   "outputs": [],
   "source": [
    "df['6MWT_TIME_change']=df.TP2_6MWT_TIME_SCORE-df.TP1_6MWT_TIME_SCORE"
   ]
  },
  {
   "cell_type": "markdown",
   "metadata": {},
   "source": [
    "# profile report"
   ]
  },
  {
   "cell_type": "code",
   "execution_count": null,
   "metadata": {},
   "outputs": [],
   "source": [
    "pandas_profiling.ProfileReport(df2)\n"
   ]
  },
  {
   "cell_type": "markdown",
   "metadata": {},
   "source": [
    "### identify and delete duplicate files"
   ]
  },
  {
   "cell_type": "code",
   "execution_count": null,
   "metadata": {},
   "outputs": [],
   "source": [
    "df[df.index.duplicated()]\n",
    "\n"
   ]
  },
  {
   "cell_type": "code",
   "execution_count": null,
   "metadata": {},
   "outputs": [],
   "source": [
    "df = df.loc[:,~df.columns.duplicated()]\n"
   ]
  },
  {
   "cell_type": "code",
   "execution_count": null,
   "metadata": {},
   "outputs": [],
   "source": [
    "df['TP2_6MWT_TIME_SCORE'].unique()"
   ]
  },
  {
   "cell_type": "code",
   "execution_count": null,
   "metadata": {},
   "outputs": [],
   "source": [
    "df['Speech_diagnosis_y/n'] = df['Speech_diagnosis_y/n'].str.strip()"
   ]
  },
  {
   "cell_type": "code",
   "execution_count": null,
   "metadata": {},
   "outputs": [],
   "source": [
    "df.Lifestyle=df.Lifestyle.str.lower()"
   ]
  },
  {
   "cell_type": "code",
   "execution_count": null,
   "metadata": {},
   "outputs": [],
   "source": [
    "df['TP2_TUG_SCORE']=pd.to_numeric(df['TP2_TUG_SCORE'])"
   ]
  },
  {
   "cell_type": "code",
   "execution_count": null,
   "metadata": {},
   "outputs": [],
   "source": [
    "dft=df"
   ]
  },
  {
   "cell_type": "code",
   "execution_count": null,
   "metadata": {},
   "outputs": [],
   "source": [
    "for column in dft.columns:\n",
    " if dft[column].dtype==object:\n",
    "  dummyCols=pd.get_dummies(dft[column])\n",
    "  dft=dft.join(dummyCols)\n",
    "  del dft[column]"
   ]
  },
  {
   "cell_type": "code",
   "execution_count": null,
   "metadata": {},
   "outputs": [],
   "source": [
    "cols= df2.columns\n",
    "for col in cols:\n",
    "    print (col)"
   ]
  },
  {
   "cell_type": "code",
   "execution_count": null,
   "metadata": {},
   "outputs": [],
   "source": [
    "df"
   ]
  },
  {
   "cell_type": "code",
   "execution_count": null,
   "metadata": {},
   "outputs": [],
   "source": [
    "df.TP2_TUG_SCORE.unique()"
   ]
  },
  {
   "cell_type": "code",
   "execution_count": null,
   "metadata": {},
   "outputs": [],
   "source": [
    "df.TP2_TUG_SCORE.describe()"
   ]
  },
  {
   "cell_type": "code",
   "execution_count": null,
   "metadata": {},
   "outputs": [],
   "source": [
    "df['TP2_TUG_SCORE']=df['TP2_TUG_SCORE'].replace({'DNA':np.nan})"
   ]
  },
  {
   "cell_type": "code",
   "execution_count": null,
   "metadata": {},
   "outputs": [],
   "source": [
    "df['TP2_TUG_SCORE']=df['TP2_TUG_SCORE'].replace({'20.5 secs':'20.5'})"
   ]
  },
  {
   "cell_type": "code",
   "execution_count": null,
   "metadata": {},
   "outputs": [],
   "source": [
    "df.TP1_MAS_L_SCORE=pd.to_numeric(df.TP1_MAS_L_SCORE)"
   ]
  },
  {
   "cell_type": "code",
   "execution_count": null,
   "metadata": {},
   "outputs": [],
   "source": [
    "df.Length_of_stay_.describe()"
   ]
  },
  {
   "cell_type": "markdown",
   "metadata": {},
   "source": [
    "# rename columns"
   ]
  },
  {
   "cell_type": "code",
   "execution_count": null,
   "metadata": {},
   "outputs": [],
   "source": [
    "df.rename(columns={'_Diet_at_Admission':'Diet_AD',\n",
    "                          '_Diet_at_Discharge__(purre/honey-thick,_ground/nectar-thick,_soft/thin,_regular/thin)':'Diet_DC',\n",
    "                          'Speech_diagnosis___________(Y/N)':'Speech_diagnosis'}, \n",
    "                 inplace=True)\n",
    " "
   ]
  },
  {
   "cell_type": "markdown",
   "metadata": {},
   "source": [
    "## fix etiology \n"
   ]
  },
  {
   "cell_type": "code",
   "execution_count": null,
   "metadata": {},
   "outputs": [],
   "source": [
    "df.Diet_AD=df.Diet_AD.str.lower()"
   ]
  },
  {
   "cell_type": "code",
   "execution_count": null,
   "metadata": {},
   "outputs": [],
   "source": [
    "df.Etiology_\n"
   ]
  },
  {
   "cell_type": "code",
   "execution_count": null,
   "metadata": {},
   "outputs": [],
   "source": [
    "df['Etiology_'] = df['Etiology_'].str.strip()"
   ]
  },
  {
   "cell_type": "code",
   "execution_count": null,
   "metadata": {},
   "outputs": [],
   "source": [
    "df.Etiology_=df.Etiology_.replace({'np.nan':np.nan})"
   ]
  },
  {
   "cell_type": "code",
   "execution_count": null,
   "metadata": {},
   "outputs": [],
   "source": [
    "df['Etiology_'].nunique() # states the unique values of a column"
   ]
  },
  {
   "cell_type": "code",
   "execution_count": null,
   "metadata": {},
   "outputs": [],
   "source": [
    "df['Diet_AD'].unique() # states the unique values of a column`\n"
   ]
  },
  {
   "cell_type": "markdown",
   "metadata": {},
   "source": [
    "### regression analysis"
   ]
  },
  {
   "cell_type": "code",
   "execution_count": null,
   "metadata": {},
   "outputs": [],
   "source": [
    "bergc= df.dropna(subset=['BERG_change'])\n",
    " "
   ]
  },
  {
   "cell_type": "code",
   "execution_count": null,
   "metadata": {},
   "outputs": [],
   "source": [
    "bergc.loc[df['BERG_change'].notnull(), 'BERG_change'] = df.loc[df['BERG_change'].notnull(), 'BERG_change'].apply(int)\n"
   ]
  },
  {
   "cell_type": "code",
   "execution_count": null,
   "metadata": {
    "scrolled": false
   },
   "outputs": [],
   "source": [
    "bergc['BERG_change']"
   ]
  },
  {
   "cell_type": "code",
   "execution_count": null,
   "metadata": {},
   "outputs": [],
   "source": [
    "sns.distplot(bergc['BERG_change'])\n"
   ]
  },
  {
   "cell_type": "code",
   "execution_count": null,
   "metadata": {},
   "outputs": [],
   "source": [
    "df.columns.all"
   ]
  },
  {
   "cell_type": "code",
   "execution_count": null,
   "metadata": {},
   "outputs": [],
   "source": [
    "y=df['BERG_change']\n",
    "x = df[['Age','Sex', 'Race', 'Height_', 'Weight','Lifestyle']]"
   ]
  },
  {
   "cell_type": "code",
   "execution_count": null,
   "metadata": {},
   "outputs": [],
   "source": [
    "dft=df[['BERG_change','Age','Sex', 'Race', 'Height_', 'Weight','Lifestyle']]"
   ]
  },
  {
   "cell_type": "code",
   "execution_count": null,
   "metadata": {},
   "outputs": [],
   "source": [
    "for column in dft.columns:\n",
    " if dft[column].dtype==object:\n",
    "  dummyCols=pd.get_dummies(dft[column])\n",
    "  dft=dft.join(dummyCols)\n",
    "  del dft[column]"
   ]
  },
  {
   "cell_type": "markdown",
   "metadata": {},
   "source": [
    "## calculate the changes in recovery - all period and dialy"
   ]
  },
  {
   "cell_type": "code",
   "execution_count": null,
   "metadata": {},
   "outputs": [],
   "source": [
    "df['6MWT_TIME_change']"
   ]
  },
  {
   "cell_type": "code",
   "execution_count": null,
   "metadata": {},
   "outputs": [],
   "source": [
    "dft=df[['BERG_change','10MWT_SSV_change','10MWT_FV_change','6MWT_TIME_change','Days_from_frist_time_point_to_last','Age','Sex', 'Race', 'Height_', 'Weight','Lifestyle']]"
   ]
  },
  {
   "cell_type": "code",
   "execution_count": null,
   "metadata": {},
   "outputs": [],
   "source": [
    "for column in dft.columns:\n",
    " if dft[column].dtype==object:\n",
    "  dummyCols=pd.get_dummies(dft[column])\n",
    "  dft=dft.join(dummyCols)\n",
    "  del dft[column]"
   ]
  },
  {
   "cell_type": "code",
   "execution_count": null,
   "metadata": {},
   "outputs": [],
   "source": [
    "y=dft['6MWT_TIME_change']\n",
    "x=dft.Days_from_frist_time_point_to_last"
   ]
  },
  {
   "cell_type": "markdown",
   "metadata": {},
   "source": [
    "## correlation between CO change, MCID, cut off"
   ]
  },
  {
   "cell_type": "code",
   "execution_count": null,
   "metadata": {},
   "outputs": [],
   "source": [
    "list(df)"
   ]
  },
  {
   "cell_type": "code",
   "execution_count": null,
   "metadata": {},
   "outputs": [],
   "source": [
    "df2['BERG_daily']= df2['BERG_change']/df['Days_from_frist_time_point_to_last']"
   ]
  },
  {
   "cell_type": "code",
   "execution_count": null,
   "metadata": {},
   "outputs": [],
   "source": [
    "df2['10MWT_SSV_daily']= df2['10MWT_SSV_change']/df['Days_from_frist_time_point_to_last']"
   ]
  },
  {
   "cell_type": "code",
   "execution_count": null,
   "metadata": {},
   "outputs": [],
   "source": []
  },
  {
   "cell_type": "code",
   "execution_count": null,
   "metadata": {},
   "outputs": [],
   "source": [
    "dft=df[['BERG_daily','10MWT_SSV_daily','6MWT_TIME_daily','FIM_daily']]"
   ]
  },
  {
   "cell_type": "code",
   "execution_count": null,
   "metadata": {},
   "outputs": [],
   "source": [
    "sns.pairplot(dft)\n",
    "dft.corr()"
   ]
  },
  {
   "cell_type": "code",
   "execution_count": null,
   "metadata": {},
   "outputs": [],
   "source": []
  },
  {
   "cell_type": "code",
   "execution_count": null,
   "metadata": {},
   "outputs": [],
   "source": []
  },
  {
   "cell_type": "code",
   "execution_count": null,
   "metadata": {},
   "outputs": [],
   "source": [
    "df[['BERG_change','Days_from_frist_time_point_to_last','BERG_daily']]"
   ]
  },
  {
   "cell_type": "code",
   "execution_count": null,
   "metadata": {},
   "outputs": [],
   "source": [
    "\n",
    "dft=df[['TP2_BBS_SCORE','TP2_10MWT_SSV_SCORE','TP2_6MWT_TIME_SCORE','FIM_change']]"
   ]
  },
  {
   "cell_type": "code",
   "execution_count": null,
   "metadata": {},
   "outputs": [],
   "source": [
    "sns.pairplot(dft)\n",
    "dft.corr()"
   ]
  },
  {
   "cell_type": "code",
   "execution_count": null,
   "metadata": {},
   "outputs": [],
   "source": [
    "dft=df[['TP1_BBS_SCORE','TP1_10MWT_SSV_SCORE','TP1_6MWT_TIME_SCORE','FIM_change']]"
   ]
  },
  {
   "cell_type": "code",
   "execution_count": null,
   "metadata": {},
   "outputs": [],
   "source": [
    "sns.pairplot(dft)\n",
    "dft.corr()"
   ]
  },
  {
   "cell_type": "code",
   "execution_count": null,
   "metadata": {},
   "outputs": [],
   "source": []
  },
  {
   "cell_type": "code",
   "execution_count": null,
   "metadata": {},
   "outputs": [],
   "source": [
    "dft=df[['BERG_change','10MWT_SSV_change','6MWT_TIME_change','FIM_change']]"
   ]
  },
  {
   "cell_type": "code",
   "execution_count": null,
   "metadata": {},
   "outputs": [],
   "source": [
    "sns.pairplot(dft)\n",
    "dft.corr()"
   ]
  },
  {
   "cell_type": "markdown",
   "metadata": {},
   "source": [
    "## calculating correlation for categorical parameters (cramers')"
   ]
  },
  {
   "cell_type": "code",
   "execution_count": null,
   "metadata": {},
   "outputs": [],
   "source": [
    "dft=df[['BERG_MCID','10MWT_SSV_MCID','6MWT_TIME_MCID','FIM_MCID']]"
   ]
  },
  {
   "cell_type": "code",
   "execution_count": null,
   "metadata": {},
   "outputs": [],
   "source": [
    "dft=df[['BERG_cutoff','10MWT_SSV_cutoff','6MWT_TIME_cutoff','FIM_cutoff']]"
   ]
  },
  {
   "cell_type": "code",
   "execution_count": 3,
   "metadata": {},
   "outputs": [],
   "source": [
    "def cramers_v(confusion_matrix):\n",
    "    chi2 = ss.chi2_contingency(confusion_matrix)[0]\n",
    "    n = confusion_matrix.sum()\n",
    "    phi2 = chi2 / n\n",
    "    r, k = confusion_matrix.shape\n",
    "    phi2corr = max(0, phi2 - ((k-1)*(r-1))/(n-1))\n",
    "    rcorr = r - ((r-1)**2)/(n-1)\n",
    "    kcorr = k - ((k-1)**2)/(n-1)\n",
    "    return np.sqrt(phi2corr / min((kcorr-1), (rcorr-1)))\n",
    "\n"
   ]
  },
  {
   "cell_type": "code",
   "execution_count": null,
   "metadata": {},
   "outputs": [],
   "source": [
    "confusion_matrix = pd.crosstab(df[\"10MWT_SSV_cutoff\"], df[\"6MWT_TIME_cutoff\"]).as_matrix()\n",
    "print(cramers_v(confusion_matrix))\n",
    "\n",
    "\n",
    "\n",
    "\n",
    "\n",
    "confusion_matrix = pd.crosstab(df[\"FIM_cutoff\"], df[\"6MWT_TIME_cutoff\"]).as_matrix()\n",
    "print(cramers_v(confusion_matrix))\n",
    "confusion_matrix = pd.crosstab(df[\"FIM_cutoff\"], df[\"10MWT_SSV_cutoff\"]).as_matrix()\n",
    "print(cramers_v(confusion_matrix))\n",
    "confusion_matrix = pd.crosstab(df[\"10MWT_SSV_cutoff\"], df[\"BERG_cutoff\"]).as_matrix()\n",
    "print(cramers_v(confusion_matrix))\n",
    "confusion_matrix = pd.crosstab(df[\"FIM_cutoff\"], df[\"BERG_cutoff\"]).as_matrix()\n",
    "print(cramers_v(confusion_matrix))\n",
    "confusion_matrix = pd.crosstab(df[\"6MWT_TIME_cutoff\"], df[\"BERG_cutoff\"]).as_matrix()\n",
    "print(cramers_v(confusion_matrix))"
   ]
  },
  {
   "cell_type": "code",
   "execution_count": null,
   "metadata": {},
   "outputs": [],
   "source": [
    "sns.pairplot(dft)\n",
    "dft.corr()"
   ]
  },
  {
   "cell_type": "code",
   "execution_count": null,
   "metadata": {},
   "outputs": [],
   "source": [
    "list(df2)"
   ]
  },
  {
   "cell_type": "code",
   "execution_count": null,
   "metadata": {},
   "outputs": [],
   "source": [
    "dft=df[['BERG_cutoff','10MWT_SSV_cutoff','10MWT_FV_cutoff','6MWT_TIME_cutoff','FIM_cutoff']]"
   ]
  },
  {
   "cell_type": "code",
   "execution_count": null,
   "metadata": {},
   "outputs": [],
   "source": [
    "dft=df2[['TP2_10MWT_SSV_SCORE','Age','TP1_BBS_SCORE','Time_since_CVA_at_admit_','TP1_10MWT_SSV_SCORE', 'FIM_AD']]"
   ]
  },
  {
   "cell_type": "code",
   "execution_count": null,
   "metadata": {},
   "outputs": [],
   "source": [
    "sns.pairplot(dft)\n",
    "dft.corr()"
   ]
  },
  {
   "cell_type": "code",
   "execution_count": null,
   "metadata": {},
   "outputs": [],
   "source": [
    "y=dft['BERG_change']\n",
    "x=dft[['Age']]\n",
    "model = sm.OLS(y, x).fit()\n",
    "predictions = model.predict(x)\n",
    "model.summary()"
   ]
  },
  {
   "cell_type": "code",
   "execution_count": null,
   "metadata": {},
   "outputs": [],
   "source": [
    "dft.plot(kind='scatter', x='Age', y='6MWT_TIME_change') #scatter plot"
   ]
  },
  {
   "cell_type": "code",
   "execution_count": null,
   "metadata": {},
   "outputs": [],
   "source": []
  },
  {
   "cell_type": "code",
   "execution_count": null,
   "metadata": {},
   "outputs": [],
   "source": [
    "dft.plot(kind='scatter', x='Days_from_frist_time_point_to_last', y='6MWT_TIME_change') #scatter plot\n"
   ]
  },
  {
   "cell_type": "code",
   "execution_count": null,
   "metadata": {},
   "outputs": [],
   "source": [
    "sns.lmplot(x='Days_from_frist_time_point_to_last',y='6MWT_TIME_change',data=df,fit_reg=True) \n"
   ]
  },
  {
   "cell_type": "code",
   "execution_count": null,
   "metadata": {},
   "outputs": [],
   "source": [
    "model = sm.OLS(y, x).fit()\n",
    "predictions = model.predict(x)"
   ]
  },
  {
   "cell_type": "code",
   "execution_count": null,
   "metadata": {},
   "outputs": [],
   "source": [
    "dft['6MWT_TIME_change'].describe()"
   ]
  },
  {
   "cell_type": "code",
   "execution_count": null,
   "metadata": {},
   "outputs": [],
   "source": [
    "model.summary()"
   ]
  },
  {
   "cell_type": "code",
   "execution_count": null,
   "metadata": {},
   "outputs": [],
   "source": [
    "list(df)"
   ]
  },
  {
   "cell_type": "markdown",
   "metadata": {},
   "source": [
    "## linear regression using MS"
   ]
  },
  {
   "cell_type": "code",
   "execution_count": null,
   "metadata": {},
   "outputs": [],
   "source": [
    "y=df['TP2_10MWT_SSV_SCORE']\n",
    "x=df['TP2_10MWT_FV_SCORE']"
   ]
  },
  {
   "cell_type": "code",
   "execution_count": null,
   "metadata": {},
   "outputs": [],
   "source": [
    "def scatter_plot(features, target):\n",
    "    plt.figure(figsize=(16,8))\n",
    "    plt.scatter(\n",
    "        df[features],\n",
    "        df[target],\n",
    "        c='black'\n",
    "    )\n",
    "    plt.xlabel(\"{}\".format(features))\n",
    "    plt.ylabel(\"{}\".format(target))\n",
    "    plt.show"
   ]
  },
  {
   "cell_type": "code",
   "execution_count": null,
   "metadata": {},
   "outputs": [],
   "source": [
    "model = sm.OLS(y, x).fit()\n",
    "predictions = model.predict(x)\n",
    "model.summary()"
   ]
  },
  {
   "cell_type": "code",
   "execution_count": null,
   "metadata": {},
   "outputs": [],
   "source": [
    "scatter_plot('TP2_10MWT_SSV_SCORE','TP2_10MWT_FV_SCORE')"
   ]
  },
  {
   "cell_type": "code",
   "execution_count": null,
   "metadata": {},
   "outputs": [],
   "source": [
    "sns.boxplot(x=df['Sex'], color='lime')\n"
   ]
  },
  {
   "cell_type": "code",
   "execution_count": null,
   "metadata": {},
   "outputs": [],
   "source": [
    "y\n"
   ]
  },
  {
   "cell_type": "markdown",
   "metadata": {},
   "source": [
    "## Lilear regression using sklearn"
   ]
  },
  {
   "cell_type": "code",
   "execution_count": null,
   "metadata": {},
   "outputs": [],
   "source": [
    "x=df['TP2_10MWT_SSV_SCORE'].values.reshape(-1,1)\n",
    "y=df['TP2_10MWT_FV_SCORE'].values.reshape(-1,1)"
   ]
  },
  {
   "cell_type": "code",
   "execution_count": null,
   "metadata": {},
   "outputs": [],
   "source": [
    "from sklearn.linear_model import LinearRegression\n",
    "reg = LinearRegression()\n",
    "reg.fit(x,y)\n",
    "print(\"The linear model is: Y = {:.5} + {:.5}X\".format(reg.intercept_[0], reg.coef_[0][0]))"
   ]
  },
  {
   "cell_type": "code",
   "execution_count": null,
   "metadata": {},
   "outputs": [],
   "source": [
    "predictions = reg.predict(x)\n",
    "plt.figure(figsize=(16, 8))\n",
    "plt.scatter(\n",
    "    df['TP2_10MWT_SSV_SCORE'],\n",
    "    df['TP2_10MWT_FV_SCORE'],\n",
    "    c='black'\n",
    ")\n",
    "plt.plot(\n",
    "    df['TP2_10MWT_SSV_SCORE'],\n",
    "    predictions,\n",
    "    c='blue',\n",
    "    linewidth=2\n",
    ")\n",
    "plt.xlabel(\"TP2_10MWT_SSV_SCORE\")\n",
    "plt.ylabel(\"TP2_10MWT_FV_SCORE\")\n",
    "plt.show()"
   ]
  },
  {
   "cell_type": "code",
   "execution_count": null,
   "metadata": {},
   "outputs": [],
   "source": [
    "X2 = sm.add_constant(x)\n",
    "est = sm.OLS(y, X2)\n",
    "est2 = est.fit()\n",
    "print(est2.summary())"
   ]
  },
  {
   "cell_type": "code",
   "execution_count": null,
   "metadata": {},
   "outputs": [],
   "source": [
    "df['Sex'].describe()"
   ]
  },
  {
   "cell_type": "code",
   "execution_count": null,
   "metadata": {},
   "outputs": [],
   "source": []
  },
  {
   "cell_type": "code",
   "execution_count": null,
   "metadata": {},
   "outputs": [],
   "source": [
    "y=df['BERG_change']\n",
    "x = df['Days_from_frist_time_point_to_last']"
   ]
  },
  {
   "cell_type": "code",
   "execution_count": null,
   "metadata": {},
   "outputs": [],
   "source": [
    "df2=[df['TP1_BBS_SCORE'], df['TP2_BBS_SCORE']]"
   ]
  },
  {
   "cell_type": "code",
   "execution_count": null,
   "metadata": {},
   "outputs": [],
   "source": [
    "y=df['TP2_BBS_SCORE']\n",
    "x = df['TP1_BBS_SCORE']"
   ]
  },
  {
   "cell_type": "code",
   "execution_count": null,
   "metadata": {},
   "outputs": [],
   "source": [
    "\n",
    "x=int(x)"
   ]
  },
  {
   "cell_type": "code",
   "execution_count": null,
   "metadata": {},
   "outputs": [],
   "source": [
    "df2=[df['TP1_BBS_SCORE'], df['TP2_BBS_SCORE']]"
   ]
  },
  {
   "cell_type": "code",
   "execution_count": null,
   "metadata": {},
   "outputs": [],
   "source": [
    "df2=df[['TP1_BBS_SCORE', 'TP2_BBS_SCORE', ]]"
   ]
  },
  {
   "cell_type": "code",
   "execution_count": null,
   "metadata": {},
   "outputs": [],
   "source": [
    "df2=df[['Sex', 'TP2_BBS_SCORE', ]]"
   ]
  },
  {
   "cell_type": "code",
   "execution_count": null,
   "metadata": {},
   "outputs": [],
   "source": [
    "df2"
   ]
  },
  {
   "cell_type": "code",
   "execution_count": null,
   "metadata": {},
   "outputs": [],
   "source": [
    "df2=df2.dropna()"
   ]
  },
  {
   "cell_type": "code",
   "execution_count": null,
   "metadata": {},
   "outputs": [],
   "source": [
    "y=df2['TP2_BBS_SCORE']\n",
    "x = df2['Sex']"
   ]
  },
  {
   "cell_type": "code",
   "execution_count": null,
   "metadata": {},
   "outputs": [],
   "source": [
    "model = sm.OLS(y, x).fit()\n",
    "predictions = model.predict(x)"
   ]
  },
  {
   "cell_type": "code",
   "execution_count": null,
   "metadata": {},
   "outputs": [],
   "source": [
    "model.summary()\n"
   ]
  },
  {
   "cell_type": "markdown",
   "metadata": {},
   "source": [
    "## predict CO at discharge "
   ]
  },
  {
   "cell_type": "code",
   "execution_count": null,
   "metadata": {},
   "outputs": [],
   "source": [
    "list(df)\n"
   ]
  },
  {
   "cell_type": "code",
   "execution_count": null,
   "metadata": {},
   "outputs": [],
   "source": [
    "dft.Sex"
   ]
  },
  {
   "cell_type": "code",
   "execution_count": null,
   "metadata": {},
   "outputs": [],
   "source": [
    "df.Sex.map(dict(1 ='M', 0='F'))\n"
   ]
  },
  {
   "cell_type": "code",
   "execution_count": null,
   "metadata": {},
   "outputs": [],
   "source": [
    "x=df[['Sex']]\n",
    "y=df['BERG_change']"
   ]
  },
  {
   "cell_type": "code",
   "execution_count": null,
   "metadata": {},
   "outputs": [],
   "source": [
    "def scatter_plot(features, target):\n",
    "    plt.figure(figsize=(16,8))\n",
    "    plt.scatter(\n",
    "        df[features],\n",
    "        df[target],\n",
    "        c='black'\n",
    "    )\n",
    "    plt.xlabel(\"{}\".format(features))\n",
    "    plt.ylabel(\"{}\".format(target))\n",
    "    plt.show"
   ]
  },
  {
   "cell_type": "code",
   "execution_count": null,
   "metadata": {},
   "outputs": [],
   "source": [
    "scatter_plot('Days_from_frist_time_point_to_last','BERG_change')"
   ]
  },
  {
   "cell_type": "code",
   "execution_count": null,
   "metadata": {},
   "outputs": [],
   "source": [
    "from sklearn.model_selection import GridSearchCV\n",
    "from sklearn.linear_model import Ridge\n",
    "ridge=Ridge()"
   ]
  },
  {
   "cell_type": "code",
   "execution_count": null,
   "metadata": {},
   "outputs": [],
   "source": [
    " parameters = {'alpha':[1e-15, 1e-10, 1e-8,1e-4, 1e-3, 1e-2, 1, 5, 10, 20]}"
   ]
  },
  {
   "cell_type": "code",
   "execution_count": null,
   "metadata": {},
   "outputs": [],
   "source": [
    "ridge_reg=GridSearchCV(ridge, parameters, scoring='neg_mean_squared_error', cv=5)\n",
    "ridge_reg.fit(x,y)"
   ]
  },
  {
   "cell_type": "markdown",
   "metadata": {},
   "source": [
    "# predicting the CO using regression \n"
   ]
  },
  {
   "cell_type": "code",
   "execution_count": null,
   "metadata": {},
   "outputs": [],
   "source": []
  },
  {
   "cell_type": "code",
   "execution_count": null,
   "metadata": {},
   "outputs": [],
   "source": [
    "df2=df[['Study_ID','BERG_change','10MWT_SSV_change','6MWT_TIME_change','FIM_change','BERG_cutoff','10MWT_SSV_cutoff','10MWT_FV_cutoff','6MWT_TIME_cutoff','FIM_cutoff','BERG_MCID','10MWT_SSV_MCID','10MWT_FV_MCID','6MWT_TIME_MCID','FIM_MCID', 'TP2_BBS_SCORE','TP2_10MWT_SSV_SCORE','TP2_10MWT_FV_SCORE','TP2_6MWT_TIME_SCORE','FIM_DC','FIM_AD','TP1_BBS_SCORE','TP1_10MWT_SSV_SCORE','TP1_10MWT_FV_SCORE','TP1_6MWT_TIME_SCORE','Age','Sex', 'Race', 'Height_', 'Weight','Lifestyle','Days_from_frist_time_point_to_last', 'Lesion_location_general','Etiology_','Highest_degree','Time_since_CVA_at_admit_' ]]"
   ]
  },
  {
   "cell_type": "code",
   "execution_count": null,
   "metadata": {},
   "outputs": [],
   "source": [
    "pandas_profiling.ProfileReport(df2)"
   ]
  },
  {
   "cell_type": "code",
   "execution_count": null,
   "metadata": {},
   "outputs": [],
   "source": [
    "df2['Lesion_location_general'].fillna('Unknown', inplace=True)"
   ]
  },
  {
   "cell_type": "markdown",
   "metadata": {},
   "source": [
    "## just numeric"
   ]
  },
  {
   "cell_type": "code",
   "execution_count": null,
   "metadata": {},
   "outputs": [],
   "source": [
    "list(df2)"
   ]
  },
  {
   "cell_type": "code",
   "execution_count": null,
   "metadata": {},
   "outputs": [],
   "source": [
    "\n",
    "x=df2['Age'].values.reshape(-1,1)\n",
    "y=df2['Days_from_frist_time_point_to_last'].values.reshape(-1,1)"
   ]
  },
  {
   "cell_type": "code",
   "execution_count": null,
   "metadata": {},
   "outputs": [],
   "source": [
    "list(dft)"
   ]
  },
  {
   "cell_type": "code",
   "execution_count": null,
   "metadata": {},
   "outputs": [],
   "source": [
    "dft['TP1_BBS_SCORE2']=dft['TP1_BBS_SCORE']**2"
   ]
  },
  {
   "cell_type": "code",
   "execution_count": null,
   "metadata": {},
   "outputs": [],
   "source": [
    "dft=df2[['Age',\n",
    " 'TP1_BBS_SCORE',\n",
    " #'TP1_BBS_SCORE2', \n",
    " 'Time_since_CVA_at_admit_',\n",
    " 'TP1_10MWT_SSV_SCORE',\n",
    " 'FIM_AD', \n",
    " 'TP1_6MWT_TIME_SCORE', 'Days_from_frist_time_point_to_last']]"
   ]
  },
  {
   "cell_type": "code",
   "execution_count": null,
   "metadata": {},
   "outputs": [],
   "source": [
    "sns.pairplot(dft)\n",
    "dft.corr()"
   ]
  },
  {
   "cell_type": "code",
   "execution_count": null,
   "metadata": {},
   "outputs": [],
   "source": [
    "df2['FIM_AD2']= df2['FIM_AD']**2"
   ]
  },
  {
   "cell_type": "code",
   "execution_count": null,
   "metadata": {},
   "outputs": [],
   "source": [
    "list(df2)"
   ]
  },
  {
   "cell_type": "code",
   "execution_count": null,
   "metadata": {},
   "outputs": [],
   "source": [
    "list(dfc)"
   ]
  },
  {
   "cell_type": "markdown",
   "metadata": {},
   "source": [
    "# LINEAR REGRESSION FOR DC AND CHANGE"
   ]
  },
  {
   "cell_type": "code",
   "execution_count": null,
   "metadata": {},
   "outputs": [],
   "source": []
  },
  {
   "cell_type": "markdown",
   "metadata": {},
   "source": [
    "## correletion and significance"
   ]
  },
  {
   "cell_type": "code",
   "execution_count": null,
   "metadata": {},
   "outputs": [],
   "source": [
    "yhead= 'TP2_10MWT_SSV_SCORE'\n",
    "x=df2[[\n",
    "  'TP1_10MWT_SSV_SCORE',  \n",
    "  'FIM_AD',\n",
    "  'TP1_BBS_SCORE',\n",
    " 'TP1_6MWT_TIME_SCORE',\n",
    " 'Age',\n",
    " 'Sex',\n",
    " 'Race',\n",
    " 'Height_',\n",
    " 'Weight',\n",
    " 'Lifestyle',\n",
    " 'Days_from_frist_time_point_to_last',\n",
    " 'Lesion_location_general',\n",
    " 'Etiology_',\n",
    " 'Highest_degree',\n",
    " 'Time_since_CVA_at_admit_',]]\n",
    " #'TP1_6MWT_TIME_SCORE']]\n",
    "y=df2[yhead].values.reshape(-1,1)\n",
    "yy=df2[yhead]"
   ]
  },
  {
   "cell_type": "code",
   "execution_count": null,
   "metadata": {},
   "outputs": [],
   "source": [
    "dfcat=df2[['Race','Sex' ]]\n",
    "dfnum=df2[['TP1_BBS_SCORE','FIM_AD' ]]\n",
    "for column in x.columns:\n",
    "    if x[column].dtype!=object:\n",
    "        dfnum[column]=x[column]\n",
    "    else:\n",
    "        dfcat[column]=x[column]\n",
    "        "
   ]
  },
  {
   "cell_type": "code",
   "execution_count": null,
   "metadata": {},
   "outputs": [],
   "source": [
    "yhead"
   ]
  },
  {
   "cell_type": "code",
   "execution_count": null,
   "metadata": {},
   "outputs": [],
   "source": [
    "list(dfcat)"
   ]
  },
  {
   "cell_type": "code",
   "execution_count": null,
   "metadata": {},
   "outputs": [],
   "source": [
    "dfnum.corr()"
   ]
  },
  {
   "cell_type": "code",
   "execution_count": null,
   "metadata": {},
   "outputs": [],
   "source": [
    "dftest=[]\n",
    "for column in dfnum.columns:\n",
    "    test=pearsonr(yy, dfnum[column])\n",
    "    dftest.append(test)\n",
    "    print(column,test[0], test[1])"
   ]
  },
  {
   "cell_type": "code",
   "execution_count": null,
   "metadata": {},
   "outputs": [],
   "source": [
    "dftest[0]"
   ]
  },
  {
   "cell_type": "code",
   "execution_count": null,
   "metadata": {},
   "outputs": [],
   "source": [
    "def dummies (x):\n",
    "    for column in x.columns:\n",
    "        if x[column].dtype==object:\n",
    "            dummyCols=pd.get_dummies(x[column])\n",
    "            x=x.join(dummyCols)\n",
    "            del x[column]\n",
    "    return x"
   ]
  },
  {
   "cell_type": "code",
   "execution_count": null,
   "metadata": {},
   "outputs": [],
   "source": [
    "dfcat2= dummies(dfcat)"
   ]
  },
  {
   "cell_type": "code",
   "execution_count": null,
   "metadata": {},
   "outputs": [],
   "source": [
    "from pyvttbl import DataFrame\n",
    "print(df.anova('TP2_10MWT_SSV_SCORE', sub='Study_ID', bfactors=['Age', 'Race']))"
   ]
  },
  {
   "cell_type": "code",
   "execution_count": null,
   "metadata": {},
   "outputs": [],
   "source": []
  },
  {
   "cell_type": "code",
   "execution_count": null,
   "metadata": {},
   "outputs": [],
   "source": [
    "model = smf.ols(formula='TP2_10MWT_SSV_SCORE ~ Race', data=df2)\n",
    "results = model.fit()\n",
    "print (results.summary())"
   ]
  },
  {
   "cell_type": "code",
   "execution_count": null,
   "metadata": {},
   "outputs": [],
   "source": [
    "for column in dfcat2.columns:\n",
    "    test=stats.pointbiserialr(yy, dfcat2[column])\n",
    "    \n",
    "    print(column,test[0], test[1])"
   ]
  },
  {
   "cell_type": "code",
   "execution_count": null,
   "metadata": {},
   "outputs": [],
   "source": [
    "sns.pairplot(dfnum)\n",
    "dd=dfnum.corr()"
   ]
  },
  {
   "cell_type": "code",
   "execution_count": null,
   "metadata": {},
   "outputs": [],
   "source": [
    "list(dd)"
   ]
  },
  {
   "cell_type": "code",
   "execution_count": null,
   "metadata": {},
   "outputs": [],
   "source": [
    "list(dfnum)"
   ]
  },
  {
   "cell_type": "code",
   "execution_count": null,
   "metadata": {},
   "outputs": [],
   "source": [
    "dfnum.head()"
   ]
  },
  {
   "cell_type": "code",
   "execution_count": null,
   "metadata": {},
   "outputs": [],
   "source": [
    "dfcat.head()"
   ]
  },
  {
   "cell_type": "code",
   "execution_count": null,
   "metadata": {},
   "outputs": [],
   "source": [
    "list(dfcat)"
   ]
  },
  {
   "cell_type": "code",
   "execution_count": null,
   "metadata": {},
   "outputs": [],
   "source": [
    "def cramers_v(confusion_matrix):\n",
    "    chi2 = ss.chi2_contingency(confusion_matrix)[0]\n",
    "    n = confusion_matrix.sum()\n",
    "    phi2 = chi2 / n\n",
    "    r, k = confusion_matrix.shape\n",
    "    phi2corr = max(0, phi2 - ((k-1)*(r-1))/(n-1))\n",
    "    rcorr = r - ((r-1)**2)/(n-1)\n",
    "    kcorr = k - ((k-1)**2)/(n-1)\n",
    "    return np.sqrt(phi2corr / min((kcorr-1), (rcorr-1)))\n",
    "\n"
   ]
  },
  {
   "cell_type": "code",
   "execution_count": null,
   "metadata": {},
   "outputs": [],
   "source": [
    "x.iloc[:,0]"
   ]
  },
  {
   "cell_type": "code",
   "execution_count": null,
   "metadata": {},
   "outputs": [],
   "source": [
    "stats.pointbiserialr(a, b)"
   ]
  },
  {
   "cell_type": "code",
   "execution_count": 4,
   "metadata": {},
   "outputs": [],
   "source": [
    "def cramers_stat(confusion_matrix):\n",
    "    chi2 = ss.chi2_contingency(confusion_matrix)[0]\n",
    "    n = confusion_matrix.sum()\n",
    "    return np.sqrt(chi2 / (n*(min(confusion_matrix.shape)-1)))"
   ]
  },
  {
   "cell_type": "code",
   "execution_count": null,
   "metadata": {},
   "outputs": [],
   "source": []
  },
  {
   "cell_type": "code",
   "execution_count": null,
   "metadata": {},
   "outputs": [],
   "source": []
  },
  {
   "cell_type": "code",
   "execution_count": null,
   "metadata": {},
   "outputs": [],
   "source": []
  },
  {
   "cell_type": "code",
   "execution_count": null,
   "metadata": {},
   "outputs": [],
   "source": [
    "for a\n",
    "confusion_matrix = pd.crosstab(x.iloc[:,0], x.iloc[:,1]).as_matrix()\n",
    "print(cramers_v(confusion_matrix))"
   ]
  },
  {
   "cell_type": "code",
   "execution_count": null,
   "metadata": {},
   "outputs": [],
   "source": [
    "print(x.columns[0])\n",
    "print(x.columns[1])"
   ]
  },
  {
   "cell_type": "code",
   "execution_count": null,
   "metadata": {},
   "outputs": [],
   "source": [
    "confusion_matrix = pd.crosstab(df[\"TP1_10MWT_SSV_SCORE\"], df[\"FIM_AD\"]).as_matrix()\n",
    "print(cramers_v(confusion_matrix))"
   ]
  },
  {
   "cell_type": "code",
   "execution_count": null,
   "metadata": {},
   "outputs": [],
   "source": [
    "\n",
    "confusion_matrix = pd.crosstab(df[\"TP1_10MWT_SSV_SCORE\"], df[\"FIM_AD\"]).as_matrix()\n",
    "print(cramers_v(confusion_matrix))\n",
    "confusion_matrix = pd.crosstab(df[\"FIM_cutoff\"], df[\"6MWT_TIME_cutoff\"]).as_matrix()\n",
    "print(cramers_v(confusion_matrix))\n",
    "confusion_matrix = pd.crosstab(df[\"FIM_cutoff\"], df[\"10MWT_SSV_cutoff\"]).as_matrix()\n",
    "print(cramers_v(confusion_matrix))\n",
    "confusion_matrix = pd.crosstab(df[\"10MWT_SSV_cutoff\"], df[\"BERG_cutoff\"]).as_matrix()\n",
    "print(cramers_v(confusion_matrix))\n",
    "confusion_matrix = pd.crosstab(df[\"FIM_cutoff\"], df[\"BERG_cutoff\"]).as_matrix()\n",
    "print(cramers_v(confusion_matrix))\n",
    "confusion_matrix = pd.crosstab(df[\"6MWT_TIME_cutoff\"], df[\"BERG_cutoff\"]).as_matrix()\n",
    "print(cramers_v(confusion_matrix))"
   ]
  },
  {
   "cell_type": "markdown",
   "metadata": {},
   "source": [
    "## Lasso regression"
   ]
  },
  {
   "cell_type": "code",
   "execution_count": null,
   "metadata": {},
   "outputs": [],
   "source": [
    "alphas = 10**np.linspace(6,-2,50)*0.5\n",
    "alphas"
   ]
  },
  {
   "cell_type": "code",
   "execution_count": null,
   "metadata": {},
   "outputs": [],
   "source": [
    "lasso = Lasso(max_iter=10000, normalize=True)\n",
    "coefs = []\n",
    "\n",
    "for a in alphas:\n",
    "    lasso.set_params(alpha=a)\n",
    "    lasso.fit(x, y)\n",
    "    coefs.append(lasso.coef_)\n",
    "    \n",
    "np.shape(coefs)"
   ]
  },
  {
   "cell_type": "code",
   "execution_count": null,
   "metadata": {},
   "outputs": [],
   "source": [
    "ax = plt.gca()\n",
    "ax.plot(alphas, coefs)\n",
    "ax.set_xscale('log')\n",
    "plt.axis('tight')\n",
    "plt.xlabel('alpha')\n",
    "plt.ylabel('weights')"
   ]
  },
  {
   "cell_type": "code",
   "execution_count": null,
   "metadata": {},
   "outputs": [],
   "source": [
    "list.index(coef)"
   ]
  },
  {
   "cell_type": "markdown",
   "metadata": {},
   "source": [
    "## Lasso CV"
   ]
  },
  {
   "cell_type": "code",
   "execution_count": null,
   "metadata": {},
   "outputs": [],
   "source": [
    "# Use the cross-validation package to split data into training and test sets\n",
    "#X_train, X_test , y_train, y_test = cross_validation.train_test_split(x, y, test_size=0.2, random_state=1)\n",
    "selected = []\n",
    "lassocv = LassoCV(alphas=None, cv=50, max_iter=100000, normalize=True)\n",
    "lassocv.fit(x, y)\n",
    "lasso.set_params(alpha=lassocv.alpha_)\n",
    "print(\"Alpha=\", lassocv.alpha_)\n",
    "lasso.fit(x, y)\n",
    "print(\"mse = \",mean_squared_error(y, lasso.predict(x)))\n",
    "print(\"best model coefficients:\")\n",
    "print(pd.Series(lasso.coef_, index=x.columns))\n",
    "print(\"vriables included in final model:\")\n",
    "\n",
    "j=0\n",
    "for coef in lasso.coef_:\n",
    "    if coef!=0:\n",
    "        selected.append(x.columns[j])\n",
    "    j=j+1\n",
    "print(selected)"
   ]
  },
  {
   "cell_type": "markdown",
   "metadata": {},
   "source": [
    "## ELASTIC NET"
   ]
  },
  {
   "cell_type": "code",
   "execution_count": null,
   "metadata": {},
   "outputs": [],
   "source": [
    "# Use the cross-validation package to split data into training and test sets\n",
    "#X_train, X_test , y_train, y_test = cross_validation.train_test_split(x, y, test_size=0.2, random_state=1)\n",
    "selected = []\n",
    "lassocv = ElasticNetCV(alphas=None, cv=50, max_iter=100000, normalize=True)\n",
    "lassocv.fit(x, y)\n",
    "lasso.set_params(alpha=lassocv.alpha_)\n",
    "print(\"Alpha=\", lassocv.alpha_)\n",
    "lasso.fit(x, y)\n",
    "print(\"mse = \",mean_squared_error(y, lasso.predict(x)))\n",
    "print(\"best model coefficients:\")\n",
    "print(pd.Series(lasso.coef_, index=x.columns))\n",
    "print(\"vriables included in final model:\")\n",
    "\n",
    "j=0\n",
    "for coef in lasso.coef_:\n",
    "    if coef!=0:\n",
    "        selected.append(x.columns[j])\n",
    "    j=j+1\n",
    "print(selected)"
   ]
  },
  {
   "cell_type": "code",
   "execution_count": null,
   "metadata": {},
   "outputs": [],
   "source": [
    "x_final=x[selected]"
   ]
  },
  {
   "cell_type": "code",
   "execution_count": null,
   "metadata": {},
   "outputs": [],
   "source": [
    "from sklearn.linear_model import LinearRegression\n",
    "reg = LinearRegression()\n",
    "reg.fit(x_final,y)\n",
    "#print(\"The linear model is: Y = {:.5} + {:.5}X\".format(reg.intercept_[0], reg.coef_[0][0]))"
   ]
  },
  {
   "cell_type": "code",
   "execution_count": null,
   "metadata": {},
   "outputs": [],
   "source": [
    "X2 = sm.add_constant(x_final)\n",
    "est = sm.OLS(y, X2)\n",
    "est2 = est.fit()\n",
    "print(est2.summary())"
   ]
  },
  {
   "cell_type": "code",
   "execution_count": null,
   "metadata": {},
   "outputs": [],
   "source": [
    "x2=x[['TP1_10MWT_SSV_SCORE', \n",
    "      'Hispanic', \n",
    "      'FIM_AD', \n",
    "      'African-American'\n",
    "     ]]\n",
    "X2 = sm.add_constant(x2)\n",
    "est = sm.OLS(y, X2)\n",
    "est2 = est.fit()\n",
    "print(est2.summary())"
   ]
  },
  {
   "cell_type": "code",
   "execution_count": null,
   "metadata": {},
   "outputs": [],
   "source": [
    "df2[['TP1_10MWT_SSV_SCORE','TP2_10MWT_SSV_SCORE']].corr()"
   ]
  },
  {
   "cell_type": "code",
   "execution_count": null,
   "metadata": {},
   "outputs": [],
   "source": [
    "def scatter_plot(features, target):\n",
    "    plt.figure(figsize=(16,8))\n",
    "    plt.scatter(\n",
    "        df2[features],\n",
    "        df2[target],\n",
    "        c='black'\n",
    "    )\n",
    "    plt.xlabel(\"{}\".format(features))\n",
    "    plt.ylabel(\"{}\".format(target))\n",
    "    plt.show"
   ]
  },
  {
   "cell_type": "code",
   "execution_count": null,
   "metadata": {},
   "outputs": [],
   "source": [
    "scatter_plot('TP1_10MWT_SSV_SCORE','TP2_10MWT_SSV_SCORE')"
   ]
  },
  {
   "cell_type": "markdown",
   "metadata": {},
   "source": [
    "## random forest for DC and CHANGE"
   ]
  },
  {
   "cell_type": "code",
   "execution_count": null,
   "metadata": {},
   "outputs": [],
   "source": [
    "# Labels are the values we want to predict\n",
    "labels = np.array(y)\n",
    "# Remove the labels from the features\n",
    "# axis 1 refers to the columns\n",
    "#features= df2.drop('TP2_10MWT_SSV_SCORE', axis = 1)\n",
    "# Saving feature names for later use\n",
    "feature_list = list(x.columns)\n",
    "# Convert to numpy array\n",
    "features = np.array(x)"
   ]
  },
  {
   "cell_type": "code",
   "execution_count": null,
   "metadata": {},
   "outputs": [],
   "source": [
    "list(y)"
   ]
  },
  {
   "cell_type": "code",
   "execution_count": null,
   "metadata": {},
   "outputs": [],
   "source": [
    "# Split the data into training and testing sets\n",
    "train_features, test_features, train_labels, test_labels = train_test_split(features, labels, test_size = 0.25, random_state = 42)"
   ]
  },
  {
   "cell_type": "code",
   "execution_count": null,
   "metadata": {},
   "outputs": [],
   "source": [
    "print('Training Features Shape:', train_features.shape)\n",
    "print('Training Labels Shape:', train_labels.shape)\n",
    "print('Testing Features Shape:', test_features.shape)\n",
    "print('Testing Labels Shape:', test_labels.shape)"
   ]
  },
  {
   "cell_type": "code",
   "execution_count": null,
   "metadata": {},
   "outputs": [],
   "source": [
    "# Import the model we are using\n",
    "from sklearn.ensemble import RandomForestRegressor\n",
    "# Instantiate model with 1000 decision trees\n",
    "rf = RandomForestRegressor(n_estimators = 1000, random_state = 42)\n",
    "# Train the model on training data\n",
    "rf.fit(train_features, train_labels);"
   ]
  },
  {
   "cell_type": "code",
   "execution_count": null,
   "metadata": {},
   "outputs": [],
   "source": [
    "# Use the forest's predict method on the test data\n",
    "predictions = rf.predict(test_features)\n",
    "# Calculate the absolute errors\n",
    "errors = abs(predictions - test_labels)\n",
    "# Print out the mean absolute error (mae)\n",
    "print(errors)\n",
    "print('Mean Absolute Error:', round(np.mean(errors), 2))"
   ]
  },
  {
   "cell_type": "code",
   "execution_count": null,
   "metadata": {},
   "outputs": [],
   "source": [
    "y.mean()"
   ]
  },
  {
   "cell_type": "code",
   "execution_count": null,
   "metadata": {},
   "outputs": [],
   "source": [
    "# Calculate mean absolute percentage error (MAPE)\n",
    "#mape = 100 *(errors / (test_labels+0.1))\n",
    "mape = 100*(errors / (test_labels+0.1))\n",
    "# Calculate and display accuracy\n",
    "print(mape)\n",
    "accuracy = 100-np.mean(mape)\n",
    "#accuracy = 100 - np.mean(mape)\n",
    "print('Accuracy:', round(accuracy, 2), '%.')"
   ]
  },
  {
   "cell_type": "code",
   "execution_count": null,
   "metadata": {},
   "outputs": [],
   "source": [
    "# Get numerical feature importances\n",
    "importances = list(rf.feature_importances_)\n",
    "# List of tuples with variable and importance\n",
    "feature_importances = [(feature, round(importance, 2)) for feature, importance in zip(feature_list, importances)]\n",
    "# Sort the feature importances by most important first\n",
    "feature_importances = sorted(feature_importances, key = lambda x: x[1], reverse = True)\n",
    "# Print out the feature and importances \n",
    "[print('Variable: {:20} Importance: {}'.format(*pair)) for pair in feature_importances];"
   ]
  },
  {
   "cell_type": "code",
   "execution_count": null,
   "metadata": {},
   "outputs": [],
   "source": []
  },
  {
   "cell_type": "code",
   "execution_count": null,
   "metadata": {},
   "outputs": [],
   "source": []
  },
  {
   "cell_type": "code",
   "execution_count": null,
   "metadata": {},
   "outputs": [],
   "source": []
  },
  {
   "cell_type": "code",
   "execution_count": null,
   "metadata": {},
   "outputs": [],
   "source": [
    "list(x)"
   ]
  },
  {
   "cell_type": "code",
   "execution_count": null,
   "metadata": {},
   "outputs": [],
   "source": [
    "def leave_one_out(algr, X, y):\n",
    "    loo = model_selection.LeaveOneOut()\n",
    "    square_error_sum = 0.0\n",
    "    for train_index, test_index in loo.split(X):\n",
    "        X_train, X_test = X[train_index], X[test_index]\n",
    "        y_train, y_test = y[train_index], y[test_index]\n",
    "        model = algr.fit(X_train, y_train.ravel())\n",
    "        predicted_y = model.predict(X_test)\n",
    "        square_error_sum += float(y_test[0] - predicted_y) ** 2\n",
    "    mse = square_error_sum / X.shape[0]\n",
    "    print ('Leave One Out?mse ' , mse)"
   ]
  },
  {
   "cell_type": "code",
   "execution_count": null,
   "metadata": {},
   "outputs": [],
   "source": [
    "leave_one_out (reg, x2, y)"
   ]
  },
  {
   "cell_type": "code",
   "execution_count": null,
   "metadata": {},
   "outputs": [],
   "source": [
    "reg = LinearRegression()"
   ]
  },
  {
   "cell_type": "code",
   "execution_count": null,
   "metadata": {},
   "outputs": [],
   "source": []
  },
  {
   "cell_type": "code",
   "execution_count": null,
   "metadata": {},
   "outputs": [],
   "source": [
    "# create a lasso regressor\n",
    "lasso = Lasso(alpha=0.001, normalize=True)\n",
    "X_train,X_test,y_train,y_test=train_test_split(x,y, test_size=0.5, random_state=31)\n",
    "# Fit the regressor to the data\n",
    "lasso.fit(x,y)\n",
    "colnames = x.columns\n",
    "\n",
    "# Compute and print the coefficients\n",
    "lasso_coef = lasso.coef_\n",
    "print(lasso_coef)\n",
    "coeff_used = np.sum(lasso.coef_!=0)\n",
    "print(coeff_used)\n",
    "overallScore=lasso.score(x,y)\n",
    "print(\"overall score:\", overallScore)\n",
    "# Plot the coefficients\n",
    "plt.plot(range(len(colnames)), lasso_coef)\n",
    "plt.xticks(range(len(colnames)), colnames.values, rotation=60) \n",
    "plt.margins(0.02)\n",
    "plt.show()"
   ]
  },
  {
   "cell_type": "code",
   "execution_count": null,
   "metadata": {},
   "outputs": [],
   "source": [
    "# create a lasso regressor\n",
    "lasso = Lasso(alpha=0.01, normalize=True)\n",
    "X_train,X_test,y_train,y_test=train_test_split(x,y, test_size=0.5, random_state=31)\n",
    "# Fit the regressor to the data\n",
    "lasso.fit(X_train,y_train)\n",
    "colnames = x.columns\n",
    "\n",
    "# Compute and print the coefficients\n",
    "lasso_coef = lasso.coef_\n",
    "print(lasso_coef)\n",
    "coeff_used = np.sum(lasso.coef_!=0)\n",
    "print(coeff_used)\n",
    "overallScore=lasso.score(X_train,y_train)\n",
    "print(\"overall score:\", overallScore)\n",
    "train_score=lasso.score(X_train,y_train)\n",
    "test_score=lasso.score(X_test,y_test)\n",
    "print(\"training score:\", train_score)\n",
    "print(\"test score:\", test_score)\n",
    "# Plot the coefficients\n",
    "plt.plot(range(len(colnames)), lasso_coef)\n",
    "plt.xticks(range(len(colnames)), colnames.values, rotation=60) \n",
    "plt.margins(0.02)\n",
    "plt.show()"
   ]
  },
  {
   "cell_type": "code",
   "execution_count": null,
   "metadata": {},
   "outputs": [],
   "source": [
    "num_instances = len(x)\n",
    "loocv = model_selection.LeaveOneOut()\n",
    "model = Lasso()\n",
    "results = model_selection.cross_val_score(model, x, y, cv=loocv)\n",
    "print(\"Accuracy: %.3f%% (%.3f%%)\" % (results.mean()*100.0, results.std()*100.0))"
   ]
  },
  {
   "cell_type": "code",
   "execution_count": null,
   "metadata": {},
   "outputs": [],
   "source": [
    "X2 = sm.add_constant(x)\n",
    "est = sm.OLS(y, X2)\n",
    "est2 = est.fit()\n",
    "print(est2.summary())"
   ]
  },
  {
   "cell_type": "code",
   "execution_count": null,
   "metadata": {},
   "outputs": [],
   "source": []
  },
  {
   "cell_type": "code",
   "execution_count": null,
   "metadata": {},
   "outputs": [],
   "source": []
  },
  {
   "cell_type": "code",
   "execution_count": null,
   "metadata": {},
   "outputs": [],
   "source": []
  },
  {
   "cell_type": "code",
   "execution_count": null,
   "metadata": {},
   "outputs": [],
   "source": [
    "Xs = df2[['Age','Time_since_CVA_at_admit_']]\n",
    "y = df2['FIM_DC'].values.reshape(-1,1)\n",
    "reg = LinearRegression()\n",
    "reg.fit(Xs, y)"
   ]
  },
  {
   "cell_type": "code",
   "execution_count": null,
   "metadata": {},
   "outputs": [],
   "source": [
    "X = np.column_stack(( df2['Age'], df2['Time_since_CVA_at_admit_']))\n",
    "y = df2['FIM_DC']\n",
    "X2 = sm.add_constant(X)\n",
    "est = sm.OLS(y, X2)\n",
    "est2 = est.fit()\n",
    "print(est2.summary())"
   ]
  },
  {
   "cell_type": "code",
   "execution_count": null,
   "metadata": {},
   "outputs": [],
   "source": [
    "list(df2)"
   ]
  },
  {
   "cell_type": "code",
   "execution_count": null,
   "metadata": {},
   "outputs": [],
   "source": [
    "from sklearn.linear_model import Lasso\n",
    "def lasso_regression(data, predictors, alpha, models_to_plot={}):\n",
    "    #Fit the model\n",
    "    lassoreg = Lasso(alpha=alpha,normalize=True, max_iter=1e5)\n",
    "    lassoreg.fit(data[predictors],data['y'])\n",
    "    y_pred = lassoreg.predict(data[predictors])\n",
    "    \n",
    "    #Check if a plot is to be made for the entered alpha\n",
    "    if alpha in models_to_plot:\n",
    "        plt.subplot(models_to_plot[alpha])\n",
    "        plt.tight_layout()\n",
    "        plt.plot(data['x'],y_pred)\n",
    "        plt.plot(data['x'],data['y'],'.')\n",
    "        plt.title('Plot for alpha: %.3g'%alpha)\n",
    "    \n",
    "    #Return the result in pre-defined format\n",
    "    rss = sum((y_pred-data['y'])**2)\n",
    "    ret = [rss]\n",
    "    ret.extend([lassoreg.intercept_])\n",
    "    ret.extend(lassoreg.coef_)\n",
    "    return ret"
   ]
  },
  {
   "cell_type": "code",
   "execution_count": null,
   "metadata": {},
   "outputs": [],
   "source": [
    "list(df2)"
   ]
  },
  {
   "cell_type": "code",
   "execution_count": null,
   "metadata": {},
   "outputs": [],
   "source": [
    "df2['Age2']= df2.Age**2"
   ]
  },
  {
   "cell_type": "code",
   "execution_count": null,
   "metadata": {},
   "outputs": [],
   "source": [
    "df2['6MWT_TIME_change']"
   ]
  },
  {
   "cell_type": "code",
   "execution_count": null,
   "metadata": {},
   "outputs": [],
   "source": [
    "df2['6MWT_TIME_change']= df2['6MWT_TIME_change'].astype('float')"
   ]
  },
  {
   "cell_type": "code",
   "execution_count": null,
   "metadata": {},
   "outputs": [],
   "source": [
    "df2['6MWT_CHANGE_LOG']"
   ]
  },
  {
   "cell_type": "code",
   "execution_count": null,
   "metadata": {},
   "outputs": [],
   "source": [
    "df2['6MWT_CHANGE_LOG']=np.log(df2['6MWT_TIME_change'])\n"
   ]
  },
  {
   "cell_type": "code",
   "execution_count": null,
   "metadata": {
    "scrolled": false
   },
   "outputs": [],
   "source": [
    "y=df2['6MWT_TIME_change']\n",
    "x=df2[['Age']]\n",
    "x = sm.add_constant(x)\n",
    "model = sm.OLS(y, x).fit()\n",
    "predictions = model.predict(x)\n",
    "model.summary()"
   ]
  },
  {
   "cell_type": "code",
   "execution_count": null,
   "metadata": {},
   "outputs": [],
   "source": [
    "df2[['6MWT_TIME_change','Age']].corr()"
   ]
  },
  {
   "cell_type": "code",
   "execution_count": null,
   "metadata": {},
   "outputs": [],
   "source": [
    "scatter_plot('Age','6MWT_TIME_change')"
   ]
  },
  {
   "cell_type": "code",
   "execution_count": null,
   "metadata": {},
   "outputs": [],
   "source": []
  },
  {
   "cell_type": "code",
   "execution_count": null,
   "metadata": {},
   "outputs": [],
   "source": [
    "list(dft)"
   ]
  },
  {
   "cell_type": "code",
   "execution_count": null,
   "metadata": {},
   "outputs": [],
   "source": [
    "df['6MWT_TIME_MCID']=df['6MWT_TIME_MCID'].astype('object')\n"
   ]
  },
  {
   "cell_type": "code",
   "execution_count": null,
   "metadata": {},
   "outputs": [],
   "source": [
    "dft=df[['BERG_change','BERG_cutoff']]"
   ]
  },
  {
   "cell_type": "code",
   "execution_count": null,
   "metadata": {},
   "outputs": [],
   "source": [
    "for column in dft.columns:\n",
    " if dft[column].dtype==object:\n",
    "  dummyCols=pd.get_dummies(dft[column])\n",
    "  dft=dft.join(dummyCols)\n",
    "  del dft[column]"
   ]
  },
  {
   "cell_type": "code",
   "execution_count": null,
   "metadata": {},
   "outputs": [],
   "source": []
  },
  {
   "cell_type": "code",
   "execution_count": null,
   "metadata": {},
   "outputs": [],
   "source": [
    "dft=df[['BERG_change','Age','Sex', 'Race', 'Height_', 'Weight','Lifestyle']]"
   ]
  },
  {
   "cell_type": "code",
   "execution_count": null,
   "metadata": {},
   "outputs": [],
   "source": [
    "y=df['TP2_10MWT_SSV_SCORE']\n",
    "x=df['TP2_10MWT_FV_SCORE']"
   ]
  },
  {
   "cell_type": "code",
   "execution_count": null,
   "metadata": {},
   "outputs": [],
   "source": [
    "def scatter_plot(features, target):\n",
    "    plt.figure(figsize=(16,8))\n",
    "    plt.scatter(\n",
    "        df2[features],\n",
    "        df2[target],\n",
    "        c='black'\n",
    "    )\n",
    "    plt.xlabel(\"{}\".format(features))\n",
    "    plt.ylabel(\"{}\".format(target))\n",
    "    plt.show"
   ]
  },
  {
   "cell_type": "code",
   "execution_count": null,
   "metadata": {},
   "outputs": [],
   "source": [
    "y=df['TP2_10MWT_SSV_SCORE']\n",
    "x=df['TP2_10MWT_FV_SCORE']"
   ]
  },
  {
   "cell_type": "code",
   "execution_count": null,
   "metadata": {},
   "outputs": [],
   "source": [
    "model = sm.OLS(y, x).fit()\n",
    "predictions = model.predict(x)\n",
    "model.summary()"
   ]
  },
  {
   "cell_type": "code",
   "execution_count": null,
   "metadata": {},
   "outputs": [],
   "source": [
    "scatter_plot('TP2_10MWT_SSV_SCORE','TP2_10MWT_FV_SCORE')"
   ]
  },
  {
   "cell_type": "code",
   "execution_count": null,
   "metadata": {},
   "outputs": [],
   "source": [
    "sns.boxplot(x=df['Sex'], color='lime')\n"
   ]
  },
  {
   "cell_type": "markdown",
   "metadata": {},
   "source": [
    "## Lilear regression using sklearn"
   ]
  },
  {
   "cell_type": "code",
   "execution_count": null,
   "metadata": {},
   "outputs": [],
   "source": [
    "\n",
    "x=df['Age'].values.reshape(-1,1)\n",
    "y=df['6MWT_TIME_change'].values.reshape(-1,1)"
   ]
  },
  {
   "cell_type": "code",
   "execution_count": null,
   "metadata": {},
   "outputs": [],
   "source": [
    "import operator\n",
    "\n",
    "from sklearn.linear_model import LinearRegression\n",
    "from sklearn.linear_model import LinearRegression\n",
    "from sklearn.metrics import mean_squared_error, r2_score\n",
    "from sklearn.preprocessing import PolynomialFeatures\n",
    "polynomial_features= PolynomialFeatures(degree=2)\n",
    "x_poly = polynomial_features.fit_transform(x)\n",
    "reg = LinearRegression()\n",
    "reg.fit(x_poly,y)\n",
    "y_poly_pred = reg.predict(x_poly)\n",
    "rmse = np.sqrt(mean_squared_error(y,y_poly_pred))\n",
    "r2 = r2_score(y,y_poly_pred)\n",
    "print(rmse)\n",
    "print(r2)\n",
    "plt.scatter(x, y, s=10)\n",
    "# sort the values of x before line plot\n",
    "sort_axis = operator.itemgetter(0)\n",
    "sorted_zip = sorted(zip(x,y_poly_pred), key=sort_axis)\n",
    "x, y_poly_pred = zip(*sorted_zip)\n",
    "plt.plot(x, y_poly_pred, color='m')\n",
    "plt.show()"
   ]
  },
  {
   "cell_type": "code",
   "execution_count": null,
   "metadata": {},
   "outputs": [],
   "source": [
    "predictions = reg.predict(x)\n",
    "plt.figure(figsize=(16, 8))\n",
    "plt.scatter(\n",
    "    df2['Age'],\n",
    "    df2['FIM_DC'],\n",
    "    c='black'\n",
    ")\n",
    "plt.plot(\n",
    "    df2['FIM_DC'],\n",
    "    predictions,\n",
    "    c='blue',\n",
    "    linewidth=2\n",
    ")\n",
    "plt.xlabel(\"TP2_10MWT_SSV_SCORE\")\n",
    "plt.ylabel(\"TP2_10MWT_FV_SCORE\")\n",
    "plt.show()"
   ]
  },
  {
   "cell_type": "code",
   "execution_count": null,
   "metadata": {},
   "outputs": [],
   "source": [
    "X2 = sm.add_constant(x)\n",
    "est = sm.OLS(y, X2)\n",
    "est2 = est.fit()\n",
    "print(est2.summary())"
   ]
  },
  {
   "cell_type": "code",
   "execution_count": null,
   "metadata": {},
   "outputs": [],
   "source": [
    "dft[['BERG_cutoff','10MWT_SSV_cutoff','10MWT_FV_cutoff','6MWT_TIME_cutoff','FIM_cutoff','BERG_MCID','10MWT_SSV_MCID','6MWT_TIME_MCID','FIM_MCID', 'TP2_BBS_SCORE','TP2_10MWT_SSV_SCORE','TP2_6MWT_TIME_SCORE','FIM_DC','']]"
   ]
  },
  {
   "cell_type": "code",
   "execution_count": null,
   "metadata": {},
   "outputs": [],
   "source": [
    "list(df2)"
   ]
  },
  {
   "cell_type": "markdown",
   "metadata": {},
   "source": [
    "## lasso regression "
   ]
  },
  {
   "cell_type": "code",
   "execution_count": null,
   "metadata": {},
   "outputs": [],
   "source": [
    "# extract our target variable -- House prices -- into an array \n",
    "y = df['TP2_10MWT_SSV_SCORE']\n",
    "x = df[[\n",
    "    'TP1_10MWT_SSV_SCORE',\n",
    "    'Days_from_frist_time_point_to_last',\n",
    "        'Age', \n",
    "        'TP1_BBS_SCORE',  \n",
    "        'TP1_6MWT_TIME_SCORE',\n",
    "        'FIM_AD']]\n",
    "\n",
    "# Create a matrix from the remaining data\n",
    "#X = x.as_matrix()\n",
    "\n",
    "# Store the column/feature names into a list \"colnames\"\n",
    "#colnames = kc.columns"
   ]
  },
  {
   "cell_type": "code",
   "execution_count": null,
   "metadata": {},
   "outputs": [],
   "source": [
    "# create a lasso regressor\n",
    "lasso = Lasso(alpha=0.01, normalize=True)\n",
    "\n",
    "# Fit the regressor to the data\n",
    "lasso.fit(x,y)\n",
    "colnames = x.columns\n",
    "\n",
    "# Compute and print the coefficients\n",
    "lasso_coef = lasso.coef_\n",
    "print(lasso_coef)\n",
    "# Plot the coefficients\n",
    "plt.plot(range(len(colnames)), lasso_coef)\n",
    "plt.xticks(range(len(colnames)), colnames.values, rotation=60) \n",
    "plt.margins(0.02)\n",
    "plt.show()"
   ]
  },
  {
   "cell_type": "code",
   "execution_count": null,
   "metadata": {},
   "outputs": [],
   "source": [
    "# Plot the coefficients\n",
    "plt.plot(range(len(colnames)), lasso_coef)\n",
    "plt.xticks(range(len(colnames)), colnames.values, rotation=60) \n",
    "plt.margins(0.02)\n",
    "plt.show()"
   ]
  },
  {
   "cell_type": "code",
   "execution_count": null,
   "metadata": {},
   "outputs": [],
   "source": [
    "# Import the necessary module\n",
    "from sklearn.model_selection import cross_val_score\n",
    "\n",
    "# Create a linear regression object: reg\n",
    "reg = LinearRegression()\n",
    "\n",
    "# Compute 5-fold cross-validation scores: cv_scores\n",
    "cv_scores = cross_val_score(reg, x, y, cv=5)\n",
    "\n",
    "# Print the 5-fold cross-validation scores\n",
    "print(cv_scores)\n",
    "\n",
    "# find the mean of our cv scores here\n",
    "print(\"Average 5-Fold CV Score: {}\".format(np.mean(cv_scores)))"
   ]
  },
  {
   "cell_type": "markdown",
   "metadata": {},
   "source": [
    "## stepwise regression"
   ]
  },
  {
   "cell_type": "code",
   "execution_count": null,
   "metadata": {},
   "outputs": [],
   "source": [
    "def stepwise_selection(X, y, \n",
    "                       initial_list=[], \n",
    "                       threshold_in=0.1, \n",
    "                       threshold_out = 0.15, \n",
    "                       verbose=True):\n",
    "    \"\"\" Perform a forward-backward feature selection \n",
    "    based on p-value from statsmodels.api.OLS\n",
    "    Arguments:\n",
    "        X - pandas.DataFrame with candidate features\n",
    "        y - list-like with the target\n",
    "        initial_list - list of features to start with (column names of X)\n",
    "        threshold_in - include a feature if its p-value < threshold_in\n",
    "        threshold_out - exclude a feature if its p-value > threshold_out\n",
    "        verbose - whether to print the sequence of inclusions and exclusions\n",
    "    Returns: list of selected features \n",
    "    Always set threshold_in < threshold_out to avoid infinite looping.\n",
    "    See https://en.wikipedia.org/wiki/Stepwise_regression for the details\n",
    "    \"\"\"\n",
    "    included = list(initial_list)\n",
    "    while True:\n",
    "        changed=False\n",
    "        # forward step\n",
    "        excluded = list(set(X.columns)-set(included))\n",
    "        new_pval = pd.Series(index=excluded)\n",
    "        for new_column in excluded:\n",
    "            model = sm.OLS(y, sm.add_constant(pd.DataFrame(X[included+[new_column]]))).fit()\n",
    "            new_pval[new_column] = model.pvalues[new_column]\n",
    "        best_pval = new_pval.min()\n",
    "        if best_pval < threshold_in:\n",
    "            best_feature = new_pval.argmin()\n",
    "            included.append(best_feature)\n",
    "            changed=True\n",
    "            if verbose:\n",
    "                print('Add  {:30} with p-value {:.6}'.format(best_feature, best_pval))\n",
    "\n",
    "        # backward step\n",
    "        model = sm.OLS(y, sm.add_constant(pd.DataFrame(X[included]))).fit()\n",
    "        # use all coefs except intercept\n",
    "        pvalues = model.pvalues.iloc[1:]\n",
    "        worst_pval = pvalues.max() # null if pvalues is empty\n",
    "        if worst_pval > threshold_out:\n",
    "            changed=True\n",
    "            worst_feature = pvalues.argmax()\n",
    "            included.remove(worst_feature)\n",
    "            if verbose:\n",
    "                print('Drop {:30} with p-value {:.6}'.format(worst_feature, worst_pval))\n",
    "        if not changed:\n",
    "            break\n",
    "    return included\n",
    "\n"
   ]
  },
  {
   "cell_type": "markdown",
   "metadata": {},
   "source": [
    "## predicting MCID (clasification)"
   ]
  },
  {
   "cell_type": "code",
   "execution_count": null,
   "metadata": {},
   "outputs": [],
   "source": [
    "df2['10MWT_SSV_MCID']"
   ]
  },
  {
   "cell_type": "code",
   "execution_count": null,
   "metadata": {},
   "outputs": [],
   "source": [
    "list(df2)"
   ]
  },
  {
   "cell_type": "code",
   "execution_count": null,
   "metadata": {},
   "outputs": [],
   "source": [
    "from sklearn import preprocessing\n",
    "import matplotlib.pyplot as plt \n",
    "plt.rc(\"font\", size=14)\n",
    "from sklearn.linear_model import LogisticRegression\n",
    "from sklearn.model_selection import train_test_split\n",
    "import seaborn as sns\n",
    "sns.set(style=\"white\")\n",
    "sns.set(style=\"whitegrid\", color_codes=True)"
   ]
  },
  {
   "cell_type": "code",
   "execution_count": null,
   "metadata": {},
   "outputs": [],
   "source": [
    "count_no_sub = len(df2[df2['10MWT_SSV_MCID']==0])\n",
    "count_sub = len(df2[df2['10MWT_SSV_MCID']==1])\n",
    "pct_of_no_sub = count_no_sub/(count_no_sub+count_sub)\n",
    "print(\"percentage of no MCID is\", pct_of_no_sub*100)\n",
    "pct_of_sub = count_sub/(count_no_sub+count_sub)\n",
    "print(\"percentage of MCID\", pct_of_sub*100)"
   ]
  },
  {
   "cell_type": "code",
   "execution_count": null,
   "metadata": {},
   "outputs": [],
   "source": [
    "df2.groupby('10MWT_SSV_MCID').mean()"
   ]
  },
  {
   "cell_type": "code",
   "execution_count": null,
   "metadata": {},
   "outputs": [],
   "source": [
    "pd.crosstab(df2.Race,df['10MWT_SSV_MCID']).plot(kind='bar')\n",
    "plt.title('go')\n",
    "plt.xlabel('race')\n",
    "plt.ylabel('Frequency of 10MWT_SSV_MCID')\n",
    "plt.savefig('pur_dayofweek_bar')"
   ]
  },
  {
   "cell_type": "code",
   "execution_count": null,
   "metadata": {},
   "outputs": [],
   "source": [
    "pd.crosstab(df2.Lifestyle,df['10MWT_SSV_MCID']).plot(kind='bar')\n",
    "plt.title('go')\n",
    "plt.xlabel('Lifestyle')\n",
    "plt.ylabel('Frequency of 10MWT_SSV_MCID')\n",
    "plt.savefig('pur_dayofweek_bar')"
   ]
  },
  {
   "cell_type": "code",
   "execution_count": null,
   "metadata": {},
   "outputs": [],
   "source": [
    "data_final= df2"
   ]
  },
  {
   "cell_type": "code",
   "execution_count": null,
   "metadata": {},
   "outputs": [],
   "source": [
    "data_final.y"
   ]
  },
  {
   "cell_type": "code",
   "execution_count": null,
   "metadata": {},
   "outputs": [],
   "source": [
    "list(df2)"
   ]
  },
  {
   "cell_type": "code",
   "execution_count": null,
   "metadata": {},
   "outputs": [],
   "source": [
    "df2[''].replace(('yes', 'no'), (1, 0), inplace=True)"
   ]
  },
  {
   "cell_type": "code",
   "execution_count": null,
   "metadata": {},
   "outputs": [],
   "source": []
  },
  {
   "cell_type": "code",
   "execution_count": null,
   "metadata": {},
   "outputs": [],
   "source": []
  },
  {
   "cell_type": "code",
   "execution_count": null,
   "metadata": {},
   "outputs": [],
   "source": []
  },
  {
   "cell_type": "code",
   "execution_count": null,
   "metadata": {},
   "outputs": [],
   "source": []
  },
  {
   "cell_type": "code",
   "execution_count": null,
   "metadata": {},
   "outputs": [],
   "source": []
  },
  {
   "cell_type": "code",
   "execution_count": null,
   "metadata": {},
   "outputs": [],
   "source": []
  },
  {
   "cell_type": "code",
   "execution_count": null,
   "metadata": {},
   "outputs": [],
   "source": [
    "data_final=data_final.rename(columns={'10MWT_SSV_MCID':'y'})"
   ]
  },
  {
   "cell_type": "code",
   "execution_count": null,
   "metadata": {},
   "outputs": [],
   "source": [
    "def dum (dft):\n",
    "    for column in dft.columns:\n",
    "        if dft[column].dtype==object:\n",
    "            dummyCols=pd.get_dummies(dft[column],prefix= column)\n",
    "            dft=dft.join(dummyCols)\n",
    "            del dft[column]"
   ]
  },
  {
   "cell_type": "code",
   "execution_count": null,
   "metadata": {},
   "outputs": [],
   "source": [
    "df2"
   ]
  },
  {
   "cell_type": "code",
   "execution_count": null,
   "metadata": {},
   "outputs": [],
   "source": [
    "dft.Sex"
   ]
  },
  {
   "cell_type": "code",
   "execution_count": null,
   "metadata": {},
   "outputs": [],
   "source": [
    "dfl=dft"
   ]
  },
  {
   "cell_type": "code",
   "execution_count": null,
   "metadata": {},
   "outputs": [],
   "source": [
    "list(dfl)"
   ]
  },
  {
   "cell_type": "code",
   "execution_count": null,
   "metadata": {},
   "outputs": [],
   "source": [
    "pd.crosstab(df2.Lifestyle,df['10MWT_SSV_MCID']).plot(kind='bar')\n",
    "plt.title('go')\n",
    "plt.xlabel('Lifestyle')\n",
    "plt.ylabel('Frequency of 10MWT_SSV_MCID')\n",
    "plt.savefig('pur_dayofweek_bar')\n"
   ]
  },
  {
   "cell_type": "code",
   "execution_count": null,
   "metadata": {},
   "outputs": [],
   "source": [
    "X = dfl[ list(dfl.loc[:,'FIM_AD':'Time_since_CVA_at_admit_'])+ list(dfl.loc[:,'Sex':'Length_of_stay_'])]\n"
   ]
  },
  {
   "cell_type": "code",
   "execution_count": null,
   "metadata": {},
   "outputs": [],
   "source": [
    "X= dfl[[ 'Race'] ]"
   ]
  },
  {
   "cell_type": "code",
   "execution_count": null,
   "metadata": {},
   "outputs": [],
   "source": [
    "y = dfl['10MWT_SSV_MCID']"
   ]
  },
  {
   "cell_type": "code",
   "execution_count": null,
   "metadata": {},
   "outputs": [],
   "source": [
    "dft['Length_of_stay_']=df['Length_of_stay_']\n"
   ]
  },
  {
   "cell_type": "code",
   "execution_count": null,
   "metadata": {},
   "outputs": [],
   "source": [
    "dfl=dfl.drop('Discharge_location_',axis=1)"
   ]
  },
  {
   "cell_type": "code",
   "execution_count": null,
   "metadata": {},
   "outputs": [],
   "source": [
    "list(X)"
   ]
  },
  {
   "cell_type": "code",
   "execution_count": null,
   "metadata": {},
   "outputs": [],
   "source": [
    "for column in X.columns:\n",
    " if X[column].dtype==object:\n",
    "  dummyCols=pd.get_dummies(X[column],prefix=column)\n",
    "  X=X.join(dummyCols)\n",
    "  del X[column]"
   ]
  },
  {
   "cell_type": "code",
   "execution_count": null,
   "metadata": {},
   "outputs": [],
   "source": []
  },
  {
   "cell_type": "code",
   "execution_count": null,
   "metadata": {},
   "outputs": [],
   "source": [
    "y=pd.to_numeric(y)"
   ]
  },
  {
   "cell_type": "markdown",
   "metadata": {},
   "source": []
  },
  {
   "cell_type": "code",
   "execution_count": null,
   "metadata": {},
   "outputs": [],
   "source": [
    "X.info()"
   ]
  },
  {
   "cell_type": "code",
   "execution_count": null,
   "metadata": {},
   "outputs": [],
   "source": [
    "X.describe()"
   ]
  },
  {
   "cell_type": "code",
   "execution_count": null,
   "metadata": {},
   "outputs": [],
   "source": [
    "np.asarray(X)"
   ]
  },
  {
   "cell_type": "code",
   "execution_count": null,
   "metadata": {},
   "outputs": [],
   "source": [
    "X=X['Race_White']"
   ]
  },
  {
   "cell_type": "code",
   "execution_count": null,
   "metadata": {},
   "outputs": [],
   "source": [
    "X."
   ]
  },
  {
   "cell_type": "code",
   "execution_count": null,
   "metadata": {},
   "outputs": [],
   "source": [
    "logit_model=sm.Logit(y,X)\n",
    "result=logit_model.fit()\n",
    "print(result.summary2())"
   ]
  },
  {
   "cell_type": "code",
   "execution_count": null,
   "metadata": {},
   "outputs": [],
   "source": [
    "list(dfl)"
   ]
  },
  {
   "cell_type": "code",
   "execution_count": null,
   "metadata": {},
   "outputs": [],
   "source": [
    "#X=pd.to_numeric(X)\n",
    "from sklearn.feature_selection import RFE\n",
    "from sklearn.linear_model import LogisticRegression\n",
    "logreg = LogisticRegression()\n",
    "rfe = RFE(logreg, 20)\n",
    "rfe = rfe.fit(X, y)\n",
    "print(rfe.support_)\n",
    "print(rfe.ranking_)"
   ]
  },
  {
   "cell_type": "code",
   "execution_count": null,
   "metadata": {},
   "outputs": [],
   "source": [
    "from sklearn.linear_model import LogisticRegression\n",
    "from sklearn import metrics\n",
    "from sklearn.model_selection import train_test_split"
   ]
  },
  {
   "cell_type": "code",
   "execution_count": null,
   "metadata": {},
   "outputs": [],
   "source": [
    "X=X.values.reshape(-1, 1)"
   ]
  },
  {
   "cell_type": "code",
   "execution_count": null,
   "metadata": {},
   "outputs": [],
   "source": [
    "X_train, X_test, y_train, y_test = train_test_split(X, y, test_size=0.5, random_state=0)\n",
    "logreg = LogisticRegression()\n",
    "logreg.fit(X_train, y_train)"
   ]
  },
  {
   "cell_type": "code",
   "execution_count": null,
   "metadata": {},
   "outputs": [],
   "source": [
    "y_pred = logreg.predict(X_test)\n",
    "print('Accuracy of logistic regression classifier on test set: {:.2f}'.format(logreg.score(X_test, y_test)))"
   ]
  },
  {
   "cell_type": "code",
   "execution_count": null,
   "metadata": {},
   "outputs": [],
   "source": [
    "from sklearn.metrics import confusion_matrix\n",
    "confusion_matrix = confusion_matrix(y_test, y_pred)\n",
    "print(confusion_matrix)"
   ]
  },
  {
   "cell_type": "code",
   "execution_count": null,
   "metadata": {},
   "outputs": [],
   "source": [
    "from sklearn.metrics import classification_report\n",
    "print(classification_report(y_test, y_pred))"
   ]
  },
  {
   "cell_type": "code",
   "execution_count": null,
   "metadata": {},
   "outputs": [],
   "source": [
    "from sklearn.metrics import roc_auc_score\n",
    "from sklearn.metrics import roc_curve\n",
    "logit_roc_auc = roc_auc_score(y_test, logreg.predict(X_test))\n",
    "fpr, tpr, thresholds = roc_curve(y_test, logreg.predict_proba(X_test)[:,1])\n",
    "plt.figure()\n",
    "plt.plot(fpr, tpr, label='Logistic Regression (area = %0.2f)' % logit_roc_auc)\n",
    "plt.plot([0, 1], [0, 1],'r--')\n",
    "plt.xlim([0.0, 1.0])\n",
    "plt.ylim([0.0, 1.05])\n",
    "plt.xlabel('False Positive Rate')\n",
    "plt.ylabel('True Positive Rate')\n",
    "plt.title('Receiver operating characteristic')\n",
    "plt.legend(loc=\"lower right\")\n",
    "plt.savefig('Log_ROC')\n",
    "plt.show()"
   ]
  },
  {
   "cell_type": "markdown",
   "metadata": {},
   "source": [
    "## LEAVE ONE OUT cross validation"
   ]
  },
  {
   "cell_type": "code",
   "execution_count": null,
   "metadata": {},
   "outputs": [],
   "source": [
    "X= dfl[[ 'Days_from_frist_time_point_to_last'] ]\n"
   ]
  },
  {
   "cell_type": "code",
   "execution_count": null,
   "metadata": {},
   "outputs": [],
   "source": [
    "X=pd.to_numeric(X)"
   ]
  },
  {
   "cell_type": "code",
   "execution_count": null,
   "metadata": {},
   "outputs": [],
   "source": [
    "Y=dfl['10MWT_SSV_MCID']"
   ]
  },
  {
   "cell_type": "code",
   "execution_count": null,
   "metadata": {},
   "outputs": [],
   "source": [
    "Y=pd.to_numeric(Y)"
   ]
  },
  {
   "cell_type": "code",
   "execution_count": null,
   "metadata": {},
   "outputs": [],
   "source": [
    "pip install -U imbalanced-learn"
   ]
  },
  {
   "cell_type": "code",
   "execution_count": null,
   "metadata": {},
   "outputs": [],
   "source": [
    "\n",
    "num_instances = len(X)\n",
    "loocv = model_selection.LeaveOneOut()\n",
    "model = LogisticRegression()\n",
    "results = model_selection.cross_val_score(model, X, Y, cv=loocv)\n",
    "print(\"Accuracy: %.3f%% (%.3f%%)\" % (results.mean()*100.0, results.std()*100.0))"
   ]
  },
  {
   "cell_type": "code",
   "execution_count": null,
   "metadata": {},
   "outputs": [],
   "source": [
    "import matplotlib.pyplot as plt\n",
    "from sklearn.svm import SVC\n",
    "from sklearn.model_selection import StratifiedKFold\n",
    "from sklearn.feature_selection import RFECV\n",
    "from sklearn.datasets import make_classification\n",
    "\n",
    "# Create the RFE object and compute a cross-validated score.\n",
    "svc = SVC(kernel=\"linear\")\n",
    "# The \"accuracy\" scoring is proportional to the number of correct\n",
    "# classifications\n",
    "rfecv = RFECV(estimator=svc, step=1, cv=50,\n",
    "              scoring='accuracy')\n",
    "rfecv.fit(X, y)\n",
    "\n",
    "print(\"Optimal number of features : %d\" % rfecv.n_features_)\n",
    "\n",
    "# Plot number of features VS. cross-validation scores\n",
    "plt.figure()\n",
    "plt.xlabel(\"Number of features selected\")\n",
    "plt.ylabel(\"Cross validation score (nb of correct classifications)\")\n",
    "plt.plot(range(1, len(rfecv.grid_scores_) + 1), rfecv.grid_scores_)\n",
    "plt.show()"
   ]
  },
  {
   "cell_type": "markdown",
   "metadata": {},
   "source": [
    "## choosing important interactions"
   ]
  },
  {
   "cell_type": "code",
   "execution_count": null,
   "metadata": {},
   "outputs": [],
   "source": [
    "from sklearn.linear_model import LinearRegression\n",
    "from sklearn.model_selection import cross_val_score\n",
    "from sklearn.model_selection import KFold\n",
    "regression = LinearRegression(normalize=True)\n",
    "crossvalidation = KFold(n_splits=10, shuffle=False, random_state=None)\n",
    "# Suppress Warning\n",
    "warnings.filterwarnings(action=\"ignore\", module=\"scipy\", message=\"^internal gelsd\")\n",
    "# Use the cross-validation package to split data into training and test sets\n",
    "#X_train, X_test , y_train, y_test = cross_validation.train_test_split(x, y, test_size=0.2, random_state=1)\n",
    "selected = []\n",
    "lassocv = LassoCV(alphas=None, cv=50, max_iter=100000, normalize=True)\n",
    "lassocv.fit(X, y)\n",
    "lasso.set_params(alpha=lassocv.alpha_)\n",
    "print(\"Alpha=\", lassocv.alpha_)\n",
    "lasso.fit(X, y)\n",
    "rmse = math.sqrt(mean_squared_error(y, lasso.predict(X)))\n",
    "print(\"rmse = \",rmse)\n",
    "per_rmse = 100*rmse/y.mean()\n",
    "print(\"mean y = \", y.mean())\n",
    "print(\"%rmse = \", per_rmse)\n",
    "print(\"best model coefficients:\")\n",
    "print(pd.Series(lasso.coef_, index=X.columns))\n",
    "print(\"vriables included in final model:\")\n",
    "\n",
    "j=0\n",
    "for coef in lasso.coef_:\n",
    "    if coef!=0:\n",
    "        selected.append(X.columns[j])\n",
    "    j=j+1\n",
    "print(selected)"
   ]
  }
 ],
 "metadata": {
  "kernelspec": {
   "display_name": "Python 3",
   "language": "python",
   "name": "python3"
  },
  "language_info": {
   "codemirror_mode": {
    "name": "ipython",
    "version": 3
   },
   "file_extension": ".py",
   "mimetype": "text/x-python",
   "name": "python",
   "nbconvert_exporter": "python",
   "pygments_lexer": "ipython3",
   "version": "3.8.3"
  }
 },
 "nbformat": 4,
 "nbformat_minor": 2
}
